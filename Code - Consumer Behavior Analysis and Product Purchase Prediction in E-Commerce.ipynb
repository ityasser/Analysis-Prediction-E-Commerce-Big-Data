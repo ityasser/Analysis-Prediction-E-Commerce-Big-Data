{
 "cells": [
  {
   "cell_type": "code",
   "execution_count": 1,
   "id": "b8e1ed26-5a96-4c7d-8436-f4fce4e9da93",
   "metadata": {},
   "outputs": [],
   "source": [
    "# pip install pyspark"
   ]
  },
  {
   "cell_type": "code",
   "execution_count": 1,
   "id": "b532f39b-5827-4033-928b-18dd97953f80",
   "metadata": {},
   "outputs": [],
   "source": [
    "# seetup java\n",
    "import os\n",
    "os.environ[\"JAVA_HOME\"] = r\"C:\\Program Files\\Java\\jdk-18.0.2.1\"\n",
    "os.environ[\"PATH\"] = os.environ[\"JAVA_HOME\"] + r\"\\bin;\" + os.environ[\"PATH\"]"
   ]
  },
  {
   "cell_type": "code",
   "execution_count": 2,
   "id": "a2c29c83-2bca-4918-bad1-cd34959be732",
   "metadata": {},
   "outputs": [],
   "source": [
    "# create session \n",
    "\n",
    "from pyspark.sql import SparkSession\n",
    "\n",
    "spark = SparkSession.builder.appName(\"E-commerce User Behavior Analysis\").config(\"spark.local.dir\", \"D:\\\\IUGAZA\\\\Big Data\\\\project\\\\spark-temp\").config(\"spark.driver.memory\", \"8g\").config(\"spark.executor.memory\", \"8g\").config(\"spark.executor.cores\", \"4\").config(\"spark.driver.maxResultSize\", \"4g\").getOrCreate()\n",
    "\n"
   ]
  },
  {
   "cell_type": "code",
   "execution_count": 3,
   "id": "12b349df-1b43-4916-89bc-bab903bd050e",
   "metadata": {},
   "outputs": [
    {
     "name": "stdout",
     "output_type": "stream",
     "text": [
      "Driver Memory: 8g\n",
      "Executor Cores: 12\n"
     ]
    }
   ],
   "source": [
    "print(\"Driver Memory:\", spark.sparkContext.getConf().get(\"spark.driver.memory\"))\n",
    "print(\"Executor Cores:\", spark.sparkContext.defaultParallelism)\n"
   ]
  },
  {
   "cell_type": "code",
   "execution_count": 4,
   "id": "d39fcd4c-15ea-44e8-9d6e-3732d6fd2a69",
   "metadata": {},
   "outputs": [],
   "source": [
    "from pyspark.sql.types import StructType, StructField, LongType, StringType\n",
    "\n",
    "schema = StructType([\n",
    "    StructField(\"user_id\",     LongType(),  True),\n",
    "    StructField(\"item_id\",     LongType(),  True),\n",
    "    StructField(\"category_id\", LongType(),  True),\n",
    "    StructField(\"behavior_type\", StringType(), True),  # 'pv','cart','fav','buy'\n",
    "    StructField(\"timestamp\",   LongType(),  True)      # Unix seconds\n",
    "])\n",
    "\n",
    "df_ori = spark.read.csv(\"D:\\\\IUGAZA\\\\Big Data\\\\project\\\\UserBehavior.csv\", schema=schema)"
   ]
  },
  {
   "cell_type": "code",
   "execution_count": 5,
   "id": "f7426773-5a69-4991-aae5-bde9eef02072",
   "metadata": {},
   "outputs": [
    {
     "name": "stdout",
     "output_type": "stream",
     "text": [
      "root\n",
      " |-- user_id: long (nullable = true)\n",
      " |-- item_id: long (nullable = true)\n",
      " |-- category_id: long (nullable = true)\n",
      " |-- behavior_type: string (nullable = true)\n",
      " |-- timestamp: long (nullable = true)\n",
      "\n"
     ]
    }
   ],
   "source": [
    "df_ori.printSchema()\n"
   ]
  },
  {
   "cell_type": "code",
   "execution_count": 6,
   "id": "6f511b66-cd0b-4ea6-b915-397e0d5e2e42",
   "metadata": {},
   "outputs": [
    {
     "name": "stdout",
     "output_type": "stream",
     "text": [
      "+-------+-------+-----------+-------------+----------+\n",
      "|user_id|item_id|category_id|behavior_type|timestamp |\n",
      "+-------+-------+-----------+-------------+----------+\n",
      "|1      |2268318|2520377    |pv           |1511544070|\n",
      "|1      |2333346|2520771    |pv           |1511561733|\n",
      "|1      |2576651|149192     |pv           |1511572885|\n",
      "|1      |3830808|4181361    |pv           |1511593493|\n",
      "|1      |4365585|2520377    |pv           |1511596146|\n",
      "+-------+-------+-----------+-------------+----------+\n",
      "only showing top 5 rows\n"
     ]
    }
   ],
   "source": [
    "df_ori.show(5, truncate=False)"
   ]
  },
  {
   "cell_type": "code",
   "execution_count": 7,
   "id": "7a325098-3db9-41e0-8e65-2e6e629323bb",
   "metadata": {},
   "outputs": [],
   "source": [
    "# Print one line of each type of Behavior\n",
    "from pyspark.sql.functions import when, col\n",
    "\n",
    "pageview1 = df_ori.filter(col(\"behavior_type\") == \"pv\").limit(1)\n",
    "buy1       = df_ori.filter(col(\"behavior_type\") == \"buy\").limit(1)\n",
    "addtocart1 = df_ori.filter(col(\"behavior_type\") == \"cart\").limit(1)\n",
    "favorite1  = df_ori.filter(col(\"behavior_type\") == \"fav\").limit(1)\n"
   ]
  },
  {
   "cell_type": "code",
   "execution_count": 8,
   "id": "6f959456-d18d-4cf3-ade8-2c806f114c76",
   "metadata": {},
   "outputs": [
    {
     "name": "stdout",
     "output_type": "stream",
     "text": [
      "+-------+-------+-----------+-------------+----------+\n",
      "|user_id|item_id|category_id|behavior_type|timestamp |\n",
      "+-------+-------+-----------+-------------+----------+\n",
      "|1      |2268318|2520377    |pv           |1511544070|\n",
      "|100    |1603476|2951233    |buy          |1511579908|\n",
      "|1000   |5120034|1051370    |cart         |1511542034|\n",
      "|100    |3763048|3425094    |fav          |1511551860|\n",
      "+-------+-------+-----------+-------------+----------+\n",
      "\n"
     ]
    }
   ],
   "source": [
    "\n",
    "sample_df1 = pageview1.union(buy1).union(addtocart1).union(favorite1)\n",
    "\n",
    "sample_df1.show(truncate=False)"
   ]
  },
  {
   "cell_type": "code",
   "execution_count": 9,
   "id": "5a8281dd-0cef-419e-97d9-f2c7dcfc9447",
   "metadata": {},
   "outputs": [],
   "source": [
    "df_count=df_ori.count()"
   ]
  },
  {
   "cell_type": "code",
   "execution_count": 10,
   "id": "1a035b79-4999-49cd-bf55-0129e694a273",
   "metadata": {},
   "outputs": [
    {
     "name": "stdout",
     "output_type": "stream",
     "text": [
      "Number of records: 100150807\n"
     ]
    }
   ],
   "source": [
    "print(\"Number of records:\", df_count)"
   ]
  },
  {
   "cell_type": "code",
   "execution_count": 11,
   "id": "91ef0386-955e-42c3-a426-5389e9883af2",
   "metadata": {},
   "outputs": [
    {
     "data": {
      "text/plain": [
       "False"
      ]
     },
     "execution_count": 11,
     "metadata": {},
     "output_type": "execute_result"
    }
   ],
   "source": [
    "df_ori.isEmpty()"
   ]
  },
  {
   "cell_type": "code",
   "execution_count": 12,
   "id": "ded0e0a0-7276-434b-8828-b8d5f7c0eb27",
   "metadata": {},
   "outputs": [
    {
     "name": "stdout",
     "output_type": "stream",
     "text": [
      "+-------+-------+-----------+-------------+---------+\n",
      "|user_id|item_id|category_id|behavior_type|timestamp|\n",
      "+-------+-------+-----------+-------------+---------+\n",
      "|      0|      0|          0|            0|        0|\n",
      "+-------+-------+-----------+-------------+---------+\n",
      "\n"
     ]
    }
   ],
   "source": [
    "from pyspark.sql.functions import col, sum as spark_sum\n",
    "\n",
    "df_ori.select([spark_sum(col(c).isNull().cast(\"int\")).alias(c) for c in df_ori.columns]).show()\n"
   ]
  },
  {
   "cell_type": "code",
   "execution_count": 13,
   "id": "55134377-e3a3-4c64-9a32-b30798e98ffa",
   "metadata": {},
   "outputs": [],
   "source": [
    "df_duplicates_count=df_ori.dropDuplicates().count()"
   ]
  },
  {
   "cell_type": "code",
   "execution_count": 14,
   "id": "67b964eb-0410-484d-bea9-f50aa53b443d",
   "metadata": {},
   "outputs": [
    {
     "name": "stdout",
     "output_type": "stream",
     "text": [
      "Number of duplicate records: 49\n"
     ]
    }
   ],
   "source": [
    "# Number of duplicate records\n",
    "duplicate_count = df_count - df_duplicates_count\n",
    "print(\"Number of duplicate records:\", duplicate_count)\n"
   ]
  },
  {
   "cell_type": "code",
   "execution_count": 15,
   "id": "2ed9f1b3-2f8e-4505-9a14-04f27c54b45a",
   "metadata": {},
   "outputs": [],
   "source": [
    "# Filter and drop duplicate records\n",
    "from pyspark.sql.functions import col\n",
    "\n",
    "allowed = [\"pv\",\"cart\",\"fav\",\"buy\"]\n",
    "df_filtered = (df_ori\n",
    "      .filter(col(\"behavior_type\").isin(allowed))\n",
    "      .dropDuplicates([\"user_id\",\"item_id\",\"category_id\",\"behavior_type\",\"timestamp\"])\n",
    "     )\n",
    "\n"
   ]
  },
  {
   "cell_type": "code",
   "execution_count": 16,
   "id": "f1eb9f53-c98a-4c5a-a167-f1add806cee0",
   "metadata": {},
   "outputs": [
    {
     "name": "stdout",
     "output_type": "stream",
     "text": [
      "Events after basic cleaning: 100150758\n"
     ]
    }
   ],
   "source": [
    "df_filtered_count=df_filtered.count()\n",
    "print(\"Events after basic cleaning:\",df_filtered_count)\n"
   ]
  },
  {
   "cell_type": "code",
   "execution_count": 17,
   "id": "0dff4866-b7e0-4851-ba92-47eeaa2e7366",
   "metadata": {},
   "outputs": [
    {
     "name": "stdout",
     "output_type": "stream",
     "text": [
      "Number of droped records: 49\n"
     ]
    }
   ],
   "source": [
    "c=df_count-df_filtered_count\n",
    "print(\"Number of droped records:\", duplicate_count)\n"
   ]
  },
  {
   "cell_type": "code",
   "execution_count": 18,
   "id": "cd0f3d40-883c-489f-9fea-71469ee05c5f",
   "metadata": {},
   "outputs": [],
   "source": [
    "# Converting the timestamp and adding time columns\n",
    "from pyspark.sql.functions import from_unixtime, to_timestamp, to_date, hour, dayofweek\n",
    "\n",
    "df_clean = (df_filtered\n",
    "      .withColumn(\"event_time\", to_timestamp(from_unixtime(col(\"timestamp\"))))\n",
    "      .withColumn(\"event_date\", to_date(col(\"event_time\")))\n",
    "      .withColumn(\"event_hour\", hour(col(\"event_time\")))\n",
    "      .withColumn(\"event_dow\",  dayofweek(col(\"event_time\")))\n",
    "     )"
   ]
  },
  {
   "cell_type": "code",
   "execution_count": 19,
   "id": "d72e6a02-c97b-48f7-b1b2-f9852cb67cac",
   "metadata": {},
   "outputs": [
    {
     "name": "stdout",
     "output_type": "stream",
     "text": [
      "+-------+-------+-----------+-------------+----------+-------------------+----------+----------+---------+\n",
      "|user_id|item_id|category_id|behavior_type|timestamp |event_time         |event_date|event_hour|event_dow|\n",
      "+-------+-------+-----------+-------------+----------+-------------------+----------+----------+---------+\n",
      "|1      |4615417|4145813    |pv           |1511870864|2017-11-28 14:07:44|2017-11-28|14        |3        |\n",
      "|1      |4666650|4756105    |pv           |1512084223|2017-12-01 01:23:43|2017-12-01|1         |6        |\n",
      "|100    |4840649|1029459    |pv           |1511868574|2017-11-28 13:29:34|2017-11-28|13        |3        |\n",
      "|100    |2772937|3114694    |pv           |1512192261|2017-12-02 07:24:21|2017-12-02|7         |7        |\n",
      "|1000040|4966998|4145813    |pv           |1511612583|2017-11-25 14:23:03|2017-11-25|14        |7        |\n",
      "+-------+-------+-----------+-------------+----------+-------------------+----------+----------+---------+\n",
      "only showing top 5 rows\n"
     ]
    }
   ],
   "source": [
    "df_clean.show(5, truncate=False)"
   ]
  },
  {
   "cell_type": "code",
   "execution_count": 20,
   "id": "75cc85b6-c74f-4265-9851-ebf1e5d33551",
   "metadata": {},
   "outputs": [],
   "source": [
    "from pyspark.sql.functions import when, col\n",
    "\n",
    "behavior_mapping = {\n",
    "    'pv': 'PageView',\n",
    "    'buy': 'Buy',\n",
    "    'cart': 'AddToCart',\n",
    "    'fav': 'Favorite'\n",
    "}\n",
    "\n",
    "df_clean = df_clean.withColumn(\n",
    "    \"behavior_type\",\n",
    "    when(col(\"behavior_type\") == \"pv\", \"PageView\")\n",
    "    .when(col(\"behavior_type\") == \"buy\", \"Buy\")\n",
    "    .when(col(\"behavior_type\") == \"cart\", \"AddToCart\")\n",
    "    .when(col(\"behavior_type\") == \"fav\", \"Favorite\")\n",
    "    .otherwise(col(\"behavior_type\"))\n",
    ")\n"
   ]
  },
  {
   "cell_type": "code",
   "execution_count": 21,
   "id": "a6d6c730-e505-4807-bdff-3c3c28f9c314",
   "metadata": {},
   "outputs": [
    {
     "name": "stdout",
     "output_type": "stream",
     "text": [
      "+-------+-------+-----------+-------------+----------+-------------------+----------+----------+---------+\n",
      "|user_id|item_id|category_id|behavior_type|timestamp |event_time         |event_date|event_hour|event_dow|\n",
      "+-------+-------+-----------+-------------+----------+-------------------+----------+----------+---------+\n",
      "|1      |4615417|4145813    |PageView     |1511870864|2017-11-28 14:07:44|2017-11-28|14        |3        |\n",
      "|1000565|1164939|4763051    |Buy          |1511794748|2017-11-27 16:59:08|2017-11-27|16        |2        |\n",
      "|1000059|3367814|982926     |AddToCart    |1512123747|2017-12-01 12:22:27|2017-12-01|12        |6        |\n",
      "|1000159|1474251|1349561    |Favorite     |1511675317|2017-11-26 07:48:37|2017-11-26|7         |1        |\n",
      "+-------+-------+-----------+-------------+----------+-------------------+----------+----------+---------+\n",
      "\n"
     ]
    }
   ],
   "source": [
    "# Print one line of each type of Behavior\n",
    "pageview = df_clean.filter(col(\"behavior_type\") == \"PageView\").limit(1)\n",
    "buy       = df_clean.filter(col(\"behavior_type\") == \"Buy\").limit(1)\n",
    "addtocart = df_clean.filter(col(\"behavior_type\") == \"AddToCart\").limit(1)\n",
    "favorite  = df_clean.filter(col(\"behavior_type\") == \"Favorite\").limit(1)\n",
    "\n",
    "sample_df = pageview.union(buy).union(addtocart).union(favorite)\n",
    "\n",
    "sample_df.show(truncate=False)\n"
   ]
  },
  {
   "cell_type": "code",
   "execution_count": 22,
   "id": "528506f5-cc11-473f-bab2-a9173539b00c",
   "metadata": {},
   "outputs": [
    {
     "name": "stdout",
     "output_type": "stream",
     "text": [
      "+-----------+-------+\n",
      "|Category_ID|  count|\n",
      "+-----------+-------+\n",
      "|    4756105|4862531|\n",
      "|    4145813|3468980|\n",
      "|    2355072|3374936|\n",
      "|    3607361|3170710|\n",
      "|     982926|3067877|\n",
      "+-----------+-------+\n",
      "\n"
     ]
    }
   ],
   "source": [
    "from pyspark.sql.functions import col\n",
    "\n",
    "top5_categories = (\n",
    "    df_clean.groupBy(\"Category_ID\")\n",
    "    .count()\n",
    "    .orderBy(col(\"count\").desc())\n",
    "    .limit(5)\n",
    ")\n",
    "\n",
    "top5_categories.show()\n"
   ]
  },
  {
   "cell_type": "code",
   "execution_count": 23,
   "id": "c2ba8e73-9beb-45e3-b5b3-94bfa91059a2",
   "metadata": {},
   "outputs": [
    {
     "name": "stdout",
     "output_type": "stream",
     "text": [
      "+----------+------+\n",
      "|event_date| count|\n",
      "+----------+------+\n",
      "|2017-11-24| 11139|\n",
      "|2017-11-25|201592|\n",
      "|2017-11-26|212698|\n",
      "|2017-11-27|219249|\n",
      "|2017-11-28|211916|\n",
      "|2017-11-29|223094|\n",
      "|2017-11-30|222041|\n",
      "|2017-12-01|212329|\n",
      "|2017-12-02|259939|\n",
      "|2017-12-03|241810|\n",
      "+----------+------+\n",
      "\n"
     ]
    }
   ],
   "source": [
    "from pyspark.sql.functions import col, to_date, count\n",
    "\n",
    "# Filtering the buying behavior only\n",
    "buy_df = df_clean.filter(col(\"behavior_type\") == \"Buy\")\n",
    "\n",
    "# Extracting the date from the Datetime column\n",
    "buy_df = buy_df.withColumn(\"event_date\", to_date(col(\"event_time\")))\n",
    "\n",
    "# Counting the number of purchases for each day\n",
    "buy_count = (\n",
    "    buy_df.groupBy(\"event_date\")\n",
    "    .agg(count(\"*\").alias(\"count\"))\n",
    "    .orderBy(\"event_date\")\n",
    ")\n",
    "\n",
    "buy_count.show()\n"
   ]
  },
  {
   "cell_type": "code",
   "execution_count": 24,
   "id": "a84d5a18-ef26-4901-85e4-618eeb33c33a",
   "metadata": {},
   "outputs": [
    {
     "name": "stdout",
     "output_type": "stream",
     "text": [
      "+---------+------+---------+\n",
      "|event_dow| count|Day_order|\n",
      "+---------+------+---------+\n",
      "|   Monday|219249|        1|\n",
      "|  Tuesday|211916|        2|\n",
      "|Wednesday|223094|        3|\n",
      "| Thursday|222041|        4|\n",
      "|   Friday|223468|        5|\n",
      "| Saturday|461531|        6|\n",
      "|   Sunday|454508|        7|\n",
      "+---------+------+---------+\n",
      "\n"
     ]
    }
   ],
   "source": [
    "from pyspark.sql.functions import date_format, col, count, when\n",
    "from pyspark.sql.window import Window\n",
    "\n",
    "# Extract today from the week for purchase operations only\n",
    "buy_day_of_week = (\n",
    "    buy_df.withColumn(\"event_dow\", date_format(col(\"event_time\"), \"EEEE\"))  # Monday, Tuesday...\n",
    "    .groupBy(\"event_dow\")\n",
    "    .agg(count(\"*\").alias(\"count\"))\n",
    ")\n",
    "\n",
    "# To maintain the order of the days, we add a sorting column (1=Monday ... 7=Sunday)\n",
    "buy_day_of_week = buy_day_of_week.withColumn(\n",
    "    \"Day_order\",\n",
    "    when(col(\"event_dow\") == \"Monday\", 1)\n",
    "    .when(col(\"event_dow\") == \"Tuesday\", 2)\n",
    "    .when(col(\"event_dow\") == \"Wednesday\", 3)\n",
    "    .when(col(\"event_dow\") == \"Thursday\", 4)\n",
    "    .when(col(\"event_dow\") == \"Friday\", 5)\n",
    "    .when(col(\"event_dow\") == \"Saturday\", 6)\n",
    "    .when(col(\"event_dow\") == \"Sunday\", 7)\n",
    ")\n",
    "\n",
    "# Sort by Day_order\n",
    "buy_day_of_week = buy_day_of_week.orderBy(\"Day_order\")\n",
    "\n",
    "buy_day_of_week.show()\n"
   ]
  },
  {
   "cell_type": "code",
   "execution_count": 25,
   "id": "56a98611-9439-4438-a561-12fd1603aee8",
   "metadata": {},
   "outputs": [],
   "source": [
    "# Conversion of daily purchase results\n",
    "buy_count_pd = buy_count.toPandas()\n",
    "\n",
    "# Convert purchase results by day of the week\n",
    "buy_day_of_week_pd = buy_day_of_week.select(\"event_dow\", \"count\").toPandas()\n"
   ]
  },
  {
   "cell_type": "code",
   "execution_count": 26,
   "id": "89df469f-f3d0-4483-8e5c-4add1f507961",
   "metadata": {},
   "outputs": [
    {
     "data": {
      "image/png": "[encoded data removed]",
      "text/plain": [
       "<Figure size 1500x400 with 2 Axes>"
      ]
     },
     "metadata": {},
     "output_type": "display_data"
    }
   ],
   "source": [
    "import matplotlib.pyplot as plt\n",
    "\n",
    "f, (ax1, ax2) = plt.subplots(1, 2, figsize=(15, 4))\n",
    "\n",
    "# The plot by date\n",
    "ax2.plot(buy_count_pd['event_date'], buy_count_pd['count'])\n",
    "ax2.set_xlabel('Date', fontsize=18)\n",
    "ax2.set_ylabel('Daily Count', fontsize=18)\n",
    "ax2.tick_params(axis='x', rotation=45)\n",
    "\n",
    "# The plot by days of the week\n",
    "ax1.plot(buy_day_of_week_pd['event_dow'], buy_day_of_week_pd['count'])\n",
    "ax1.set_xlabel('Day of Week', fontsize=18)\n",
    "ax1.set_ylabel('Count of Buy', fontsize=18)\n",
    "ax1.tick_params(axis='x', rotation=45)\n",
    "\n",
    "f.suptitle('Counts of Buy Behavior over Time', fontsize=20)\n",
    "plt.subplots_adjust(wspace=0.3)\n",
    "\n",
    "plt.show()\n"
   ]
  },
  {
   "cell_type": "code",
   "execution_count": 53,
   "id": "e1428012-9e17-4902-9957-c0744fa46a89",
   "metadata": {},
   "outputs": [
    {
     "name": "stdout",
     "output_type": "stream",
     "text": [
      "+-------+-------+-----------+-------------+----------+-------------------+----------+----------+---------+---------+\n",
      "|user_id|item_id|category_id|behavior_type| timestamp|         event_time|event_date|event_hour|event_dow|Day_order|\n",
      "+-------+-------+-----------+-------------+----------+-------------------+----------+----------+---------+---------+\n",
      "|      1|4615417|    4145813|     PageView|1511870864|2017-11-28 14:07:44|2017-11-28|        14|  Tuesday|        2|\n",
      "|      1|4666650|    4756105|     PageView|1512084223|2017-12-01 01:23:43|2017-12-01|         1|   Friday|        5|\n",
      "|    100|4840649|    1029459|     PageView|1511868574|2017-11-28 13:29:34|2017-11-28|        13|  Tuesday|        2|\n",
      "|    100|2772937|    3114694|     PageView|1512192261|2017-12-02 07:24:21|2017-12-02|         7| Saturday|        6|\n",
      "|1000040|4966998|    4145813|     PageView|1511612583|2017-11-25 14:23:03|2017-11-25|        14| Saturday|        6|\n",
      "|1000040|4752029|     570735|     PageView|1511763248|2017-11-27 08:14:08|2017-11-27|         8|   Monday|        1|\n",
      "|1000040|2492167|    1575622|     PageView|1511829027|2017-11-28 02:30:27|2017-11-28|         2|  Tuesday|        2|\n",
      "|1000059|3367814|     982926|    AddToCart|1512123747|2017-12-01 12:22:27|2017-12-01|        12|   Friday|        5|\n",
      "|1000059|3777334|    1320293|     PageView|1512202416|2017-12-02 10:13:36|2017-12-02|        10| Saturday|        6|\n",
      "|1000060| 360967|    2355072|     PageView|1512139069|2017-12-01 16:37:49|2017-12-01|        16|   Friday|        5|\n",
      "|1000085|3660108|     846990|     PageView|1511683024|2017-11-26 09:57:04|2017-11-26|         9|   Sunday|        7|\n",
      "|1000103| 348147|    5140516|     PageView|1512131436|2017-12-01 14:30:36|2017-12-01|        14|   Friday|        5|\n",
      "|1000107|3243627|    4792801|     PageView|1512232621|2017-12-02 18:37:01|2017-12-02|        18| Saturday|        6|\n",
      "|1000114|3173619|    3607361|     PageView|1512025140|2017-11-30 08:59:00|2017-11-30|         8| Thursday|        4|\n",
      "|1000135|1161410|    4301450|     PageView|1511656741|2017-11-26 02:39:01|2017-11-26|         2|   Sunday|        7|\n",
      "|1000154| 539970|    3607361|     PageView|1512181340|2017-12-02 04:22:20|2017-12-02|         4| Saturday|        6|\n",
      "|1000159|1474251|    1349561|     Favorite|1511675317|2017-11-26 07:48:37|2017-11-26|         7|   Sunday|        7|\n",
      "|1000159| 434901|    4145813|     PageView|1511965903|2017-11-29 16:31:43|2017-11-29|        16|Wednesday|        3|\n",
      "|1000165|  86676|    2465336|     PageView|1511666117|2017-11-26 05:15:17|2017-11-26|         5|   Sunday|        7|\n",
      "|1000165|3736293|    4498047|     PageView|1512115507|2017-12-01 10:05:07|2017-12-01|        10|   Friday|        5|\n",
      "+-------+-------+-----------+-------------+----------+-------------------+----------+----------+---------+---------+\n",
      "only showing top 20 rows\n"
     ]
    }
   ],
   "source": [
    "from pyspark.sql.functions import when, col, date_format\n",
    "\n",
    "#Extracting the day of the week (for example, Monday, Tuesday ...)\n",
    "df_with_dow = df_clean.withColumn(\"event_dow\", date_format(col(\"event_time\"), \"EEEE\"))\n",
    "\n",
    "# Add a ranking column for the days (Monday=1 ... Sunday=7)\n",
    "df_with_dow = df_with_dow.withColumn(\n",
    "    \"Day_order\",\n",
    "    when(col(\"event_dow\") == \"Monday\", 1)\n",
    "    .when(col(\"event_dow\") == \"Tuesday\", 2)\n",
    "    .when(col(\"event_dow\") == \"Wednesday\", 3)\n",
    "    .when(col(\"event_dow\") == \"Thursday\", 4)\n",
    "    .when(col(\"event_dow\") == \"Friday\", 5)\n",
    "    .when(col(\"event_dow\") == \"Saturday\", 6)\n",
    "    .when(col(\"event_dow\") == \"Sunday\", 7)\n",
    ")\n",
    "\n",
    "# Sort by Day_order\n",
    "df_sorted = df_with_dow.orderBy(\"Day_order\")\n",
    "\n",
    "df_with_dow.show()\n"
   ]
  },
  {
   "cell_type": "code",
   "execution_count": 32,
   "id": "69ab2bbe-bb97-47c1-8566-19967cc4e68f",
   "metadata": {},
   "outputs": [
    {
     "name": "stdout",
     "output_type": "stream",
     "text": [
      "+----------+---------+------+--------+--------+\n",
      "|event_hour|AddToCart|Buy   |Favorite|PageView|\n",
      "+----------+---------+------+--------+--------+\n",
      "|0         |81305    |18014 |40524   |1226978 |\n",
      "|1         |147046   |37679 |74666   |2229525 |\n",
      "|2         |192036   |64916 |103721  |3043104 |\n",
      "|3         |229890   |96134 |127976  |3729432 |\n",
      "|4         |266963   |127932|147752  |4335955 |\n",
      "|5         |260831   |122046|145412  |4214979 |\n",
      "|6         |255811   |118591|140862  |4257322 |\n",
      "|7         |279829   |123426|150844  |4655891 |\n",
      "|8         |277093   |122171|148561  |4643720 |\n",
      "|9         |284269   |122728|151321  |4808723 |\n",
      "|10        |279035   |116444|148722  |4610033 |\n",
      "|11        |255342   |101300|137631  |4205929 |\n",
      "|12        |253193   |95907 |133262  |4316201 |\n",
      "|13        |314774   |115032|161057  |5434301 |\n",
      "|14        |393209   |133859|191406  |6590552 |\n",
      "|15        |465924   |145431|219974  |7544142 |\n",
      "|16        |486249   |138263|232222  |7450277 |\n",
      "|17        |395920   |100070|195330  |5612303 |\n",
      "|18        |181807   |57775 |105681  |3058173 |\n",
      "|19        |85412    |23169 |51374   |1422187 |\n",
      "|20        |46155    |12012 |27791   |769520  |\n",
      "|21        |32552    |8025  |18384   |525249  |\n",
      "|22        |28537    |6748  |14793   |449856  |\n",
      "|23        |37264    |8135  |18992   |581895  |\n",
      "+----------+---------+------+--------+--------+\n",
      "\n"
     ]
    }
   ],
   "source": [
    "from pyspark.sql.functions import count\n",
    "\n",
    "# Counting the number of behaviors per hour\n",
    "hourly_behavior = (\n",
    "    df_clean.groupBy(\"event_hour\", \"behavior_type\")\n",
    "    .agg(count(\"*\").alias(\"Behavior_Count\"))\n",
    ")\n",
    "\n",
    "# Converting data from Long form to Wide form (like pivot_table)\n",
    "hourly_behavior_count = (\n",
    "    hourly_behavior.groupBy(\"event_hour\")\n",
    "    .pivot(\"behavior_type\")   # like columns='Behavior'\n",
    "    .sum(\"Behavior_Count\")    #like values='Behavior_Count'\n",
    "    .fillna(0)                # like fill_value=0\n",
    "    .orderBy(\"event_hour\")\n",
    ")\n",
    "\n",
    "hourly_behavior_count.show(24, truncate=False)\n"
   ]
  },
  {
   "cell_type": "code",
   "execution_count": null,
   "id": "230b92dc-266f-4c11-84df-ebbd1159f497",
   "metadata": {},
   "outputs": [],
   "source": [
    "# How to convert a DataFrame from PySpark to Pandas\n",
    "buy_count_pd = buy_count.toPandas()\n",
    "buy_day_of_week_pd = buy_day_of_week.toPandas()\n"
   ]
  },
  {
   "cell_type": "code",
   "execution_count": null,
   "id": "4b557da1-5bd8-4e1f-8c89-456222ef2c3e",
   "metadata": {
    "scrolled": true
   },
   "outputs": [],
   "source": [
    "# df_clean = df_clean.withColumn(\"event_dow\", df_clean[\"event_dow\"].cast(StringType()))\n",
    "buy_day_of_week_pd = buy_day_of_week.toPandas()\n"
   ]
  },
  {
   "cell_type": "code",
   "execution_count": 48,
   "id": "458ba974-211f-4b36-bb02-9b9022c52e78",
   "metadata": {},
   "outputs": [
    {
     "name": "stdout",
     "output_type": "stream",
     "text": [
      "root\n",
      " |-- user_id: long (nullable = true)\n",
      " |-- item_id: long (nullable = true)\n",
      " |-- category_id: long (nullable = true)\n",
      " |-- behavior_type: string (nullable = true)\n",
      " |-- timestamp: long (nullable = true)\n",
      " |-- event_time: timestamp (nullable = true)\n",
      " |-- event_date: date (nullable = true)\n",
      " |-- event_hour: integer (nullable = true)\n",
      " |-- event_dow: string (nullable = true)\n",
      " |-- Day_order: integer (nullable = true)\n",
      "\n"
     ]
    }
   ],
   "source": [
    "df_clean.printSchema()\n"
   ]
  },
  {
   "cell_type": "code",
   "execution_count": 60,
   "id": "478695bb-f1c6-4e3a-8ed1-ad6fff59cc9d",
   "metadata": {},
   "outputs": [
    {
     "name": "stderr",
     "output_type": "stream",
     "text": [
      "C:\\Users\\ITyas\\AppData\\Local\\Temp\\ipykernel_32100\\1912557320.py:21: FutureWarning: \n",
      "\n",
      "Passing `palette` without assigning `hue` is deprecated and will be removed in v0.14.0. Assign the `x` variable to `hue` and set `legend=False` for the same effect.\n",
      "\n",
      "  sns.barplot(data=buy_hour_pd, x=\"event_hour\", y=\"count\", palette=\"Blues_d\")\n",
      "C:\\Users\\ITyas\\AppData\\Local\\Temp\\ipykernel_32100\\1912557320.py:26: FutureWarning: \n",
      "\n",
      "Passing `palette` without assigning `hue` is deprecated and will be removed in v0.14.0. Assign the `x` variable to `hue` and set `legend=False` for the same effect.\n",
      "\n",
      "  sns.barplot(data=buy_day_of_week_pd, x=\"event_dow\", y=\"count\", palette=\"Greens_d\")\n"
     ]
    },
    {
     "data": {
      "image/png": "[encoded data removed]",
      "text/plain": [
       "<Figure size 1500x600 with 2 Axes>"
      ]
     },
     "metadata": {},
     "output_type": "display_data"
    }
   ],
   "source": [
    "from pyspark.sql import functions as F\n",
    "import matplotlib.pyplot as plt\n",
    "import seaborn as sns\n",
    "\n",
    "# 1. We prepare the collection data inside Spark (small) \n",
    "# Calculating the number of events per hour\n",
    "\n",
    "buy_hour = df_with_dow.groupBy(\"event_hour\").count().orderBy(\"event_hour\")\n",
    "\n",
    "# Counting the number of events for each day of the week\n",
    "buy_day_of_week = df_with_dow.groupBy(\"event_dow\").count().orderBy(\"event_dow\")\n",
    "\n",
    "# 2. We convert the results to Pandas (small and easy for plotting)\n",
    "buy_hour_pd = buy_hour.toPandas()\n",
    "buy_day_of_week_pd = buy_day_of_week.toPandas()\n",
    "\n",
    "# We draw using seaborn/matplotlib.\n",
    "plt.figure(1, figsize=(15, 6))\n",
    "\n",
    "# subplot 1: By the hours\n",
    "plt.subplot(1, 2, 1)\n",
    "sns.barplot(data=buy_hour_pd, x=\"event_hour\", y=\"count\", palette=\"Blues_d\")\n",
    "plt.title('Countplot of Hour', fontsize=18)\n",
    "\n",
    "# subplot 2: On weekdays\n",
    "plt.subplot(1, 2, 2)\n",
    "sns.barplot(data=buy_day_of_week_pd, x=\"event_dow\", y=\"count\", palette=\"Greens_d\")\n",
    "plt.title('Countplot of Day_of_Week', fontsize=18)\n",
    "\n",
    "plt.subplots_adjust(hspace=0.5, wspace=0.2)\n",
    "plt.savefig('Countplot_of_Hour_and_Day_of_Week.png', format='png', bbox_inches='tight')\n",
    "plt.show()\n"
   ]
  },
  {
   "cell_type": "code",
   "execution_count": 58,
   "id": "2e21ed3a-21fc-470c-87e6-b0b86650601e",
   "metadata": {},
   "outputs": [
    {
     "data": {
      "text/plain": [
       "DataFrame[user_id: bigint, item_id: bigint, category_id: bigint, behavior_type: string, timestamp: bigint, event_time: timestamp, event_date: date, event_hour: int, event_dow: string, Day_order: int]"
      ]
     },
     "execution_count": 58,
     "metadata": {},
     "output_type": "execute_result"
    }
   ],
   "source": [
    "df_with_dow"
   ]
  },
 {
   "cell_type": "code",
   "execution_count": 80,
   "id": "6ce7fb86-0a95-480f-9663-265afca8f72c",
   "metadata": {},
   "outputs": [
    {
     "name": "stdout",
     "output_type": "stream",
     "text": [
      "Baseline runtime: 8.1687 seconds\n",
      "Spark runtime: 0.6516 seconds\n",
      "Speedup: 12.5368x\n"
     ]
    }
   ],
   "source": [
    "# Time measurement with and without Spark for  Calculating the number of events per hour\n",
    "import time\n",
    "from pyspark.sql import SparkSession\n",
    "\n",
    "# 1) Without Spark (baseline)\n",
    "\n",
    "start_time = time.time()\n",
    "buy_hour_with= (\n",
    "    buy_hour_pd.groupby(\"event_hour\")  \n",
    "    .size()                           \n",
    "    .reset_index(name=\"count\")        \n",
    "    .sort_values(\"event_hour\")        \n",
    ")\n",
    "end_time = time.time()\n",
    "baseline_time = end_time - start_time\n",
    "print(f\"Baseline runtime: {baseline_time:.4f} seconds\")\n",
    "\n",
    "\n",
    "# 2) With Spark\n",
    "\n",
    "start_time = time.time()\n",
    "buy_hour_spar = df_with_dow.groupBy(\"event_hour\").count().orderBy(\"event_hour\")\n",
    "end_time = time.time()\n",
    "spark_time = end_time - start_time\n",
    "print(f\"Spark runtime: {spark_time:.4f} seconds\")\n",
    "\n",
    "# 3) Speedup\n",
    "speedup = baseline_time / spark_time if spark_time > 0 else None\n",
    "print(f\"Speedup: {speedup:.4f}x\")\n"
   ]
  },
  {
   "cell_type": "code",
   "execution_count": 81,
   "id": "65576c0e-177e-43bc-88f6-9d44fc2c2fde",
   "metadata": {},
   "outputs": [
    {
     "name": "stdout",
     "output_type": "stream",
     "text": [
      "Baseline runtime: 1.2241 seconds\n",
      "Spark runtime: 0.1270 seconds\n",
      "Speedup: 9.635x\n"
     ]
    }
   ],
   "source": [
    "# Time measurement with and without Spark for  Counting the number of events for each day of the week\n",
    "import time\n",
    "from pyspark.sql import SparkSession\n",
    "\n",
    "# 1) Without Spark (baseline)\n",
    "\n",
    "start_time = time.time()\n",
    "buy_day_of_week_without = (\n",
    "    buy_day_of_week_pd.groupby(\"event_dow\")\n",
    "    .size()\n",
    "    .reset_index(name=\"count\")\n",
    "    .sort_values(\"event_dow\")\n",
    ")\n",
    "\n",
    "end_time = time.time()\n",
    "baseline_time = end_time - start_time\n",
    "print(f\"Baseline runtime: {baseline_time:.4f} seconds\")\n",
    "\n",
    "\n",
    "# 2) With Spark\n",
    "\n",
    "start_time = time.time()\n",
    "buy_day_of_week_spark = df_with_dow.groupBy(\"event_dow\").count().orderBy(\"event_dow\")\n",
    "end_time = time.time()\n",
    "spark_time = end_time - start_time\n",
    "print(f\"Spark runtime: {spark_time:.4f} seconds\")\n",
    "\n",
    "# 3) Speedup\n",
    "speedup = baseline_time / spark_time if spark_time > 0 else None\n",
    "print(f\"Speedup: {speedup:.4}x\")\n"
   ]
  },
  {
   "cell_type": "code",
   "execution_count": 63,
   "id": "d5d47618-ba90-4c08-a527-cb13aaf704ba",
   "metadata": {},
   "outputs": [
    {
     "name": "stdout",
     "output_type": "stream",
     "text": [
      "+---------+\n",
      "|    total|\n",
      "+---------+\n",
      "|100150758|\n",
      "+---------+\n",
      "\n"
     ]
    }
   ],
   "source": [
    "from pyspark.sql import functions as F\n",
    "\n",
    "result = (\n",
    "    df_with_dow\n",
    "    .groupBy(\"event_hour\")\n",
    "    .agg(F.count(\"behavior_type\").alias(\"cnt\"))\n",
    "    .agg(F.sum(\"cnt\").alias(\"total\"))\n",
    ")\n",
    "\n",
    "result.show()\n"
   ]
  },
  {
   "cell_type": "code",
   "execution_count": 39,
   "id": "8299dbdc-df6d-4fac-a3a9-c1cfa27264bf",
   "metadata": {},
   "outputs": [
    {
     "name": "stdout",
     "output_type": "stream",
     "text": [
      "['event_dow', 'count', 'Day_order']\n"
     ]
    }
   ],
   "source": [
    "total = df_5M.count()\n"
   ]
  },
  {
   "cell_type": "code",
   "execution_count": 65,
   "id": "3ff421b8-ea65-4598-a6ba-999db20a0077",
   "metadata": {},
   "outputs": [
    {
     "name": "stdout",
     "output_type": "stream",
     "text": [
      "+-----------+----+--------+--------------------+\n",
      "|category_id| Buy|PageView|     Conversion_Rate|\n",
      "+-----------+----+--------+--------------------+\n",
      "|    1572948|1682|   15921| 0.09555189456342669|\n",
      "|    2394030| 902|   20376|0.042391202180656076|\n",
      "|    4578843|  40|    1569|0.024860161591050343|\n",
      "|      22129|  56|   17481|0.003193248560187033|\n",
      "|    2817976|  19|    1739| 0.01080773606370876|\n",
      "|    2252844|   1|      19|                0.05|\n",
      "|    3639576| 132|    2082| 0.05962059620596206|\n",
      "|    3975787|3836|  123114|0.030216620716817643|\n",
      "|    1113817| 210|    4500|0.044585987261146494|\n",
      "|    2807166|  11|     433|0.024774774774774775|\n",
      "|    4220062|   2|       6|                0.25|\n",
      "|    3003972|   7|     978|0.007106598984771574|\n",
      "|    3748100| 173|    1409| 0.10935524652338811|\n",
      "|    1053937|   0|      16|                 0.0|\n",
      "|    2887965| 114|    2212|0.049011177987962166|\n",
      "|    2842504|   5|     646|0.007680491551459293|\n",
      "|    2210217| 185|    3013| 0.05784865540963102|\n",
      "|     658007|   2|     185|  0.0106951871657754|\n",
      "|    1589379|  68|    2570| 0.02577710386656558|\n",
      "|    4737339|  52|    1978| 0.02561576354679803|\n",
      "+-----------+----+--------+--------------------+\n",
      "only showing top 20 rows\n"
     ]
    }
   ],
   "source": [
    "from pyspark.sql import functions as F\n",
    "\n",
    "# Filter only Buy and PageView\n",
    "conversion = df_with_dow.filter(df_with_dow['behavior_type'].isin(['Buy', 'PageView']))\n",
    "\n",
    "# Count behaviors per category\n",
    "conversion_counts = (\n",
    "    conversion\n",
    "    .groupBy('category_id', 'behavior_type')\n",
    "    .agg(F.count('*').alias('count'))\n",
    "    .groupBy('category_id')\n",
    "    .pivot('behavior_type', ['Buy', 'PageView'])\n",
    "    .sum('count')\n",
    "    .fillna(0)\n",
    ")\n",
    "\n",
    "# Keep only categories where PageView >= Buy\n",
    "conversion_counts = conversion_counts.filter(conversion_counts['PageView'] >= conversion_counts['Buy'])\n",
    "\n",
    "\n"
   ]
  },
  {
   "cell_type": "code",
   "execution_count": 66,
   "id": "bf226197-386b-4928-84fe-ef5c063b5c1e",
   "metadata": {},
   "outputs": [
    {
     "name": "stdout",
     "output_type": "stream",
     "text": [
      "+-----------+----+--------+---------------+\n",
      "|category_id| Buy|PageView|Conversion_Rate|\n",
      "+-----------+----+--------+---------------+\n",
      "|    1572948|1682|   15921|          0.096|\n",
      "|    2394030| 902|   20376|          0.042|\n",
      "|    4578843|  40|    1569|          0.025|\n",
      "|      22129|  56|   17481|          0.003|\n",
      "|    2817976|  19|    1739|          0.011|\n",
      "|    2252844|   1|      19|           0.05|\n",
      "|    3639576| 132|    2082|           0.06|\n",
      "|    3975787|3836|  123114|           0.03|\n",
      "|    1113817| 210|    4500|          0.045|\n",
      "|    2807166|  11|     433|          0.025|\n",
      "|    4220062|   2|       6|           0.25|\n",
      "|    3003972|   7|     978|          0.007|\n",
      "|    3748100| 173|    1409|          0.109|\n",
      "|    1053937|   0|      16|            0.0|\n",
      "|    2887965| 114|    2212|          0.049|\n",
      "|    2842504|   5|     646|          0.008|\n",
      "|    2210217| 185|    3013|          0.058|\n",
      "|     658007|   2|     185|          0.011|\n",
      "|    1589379|  68|    2570|          0.026|\n",
      "|    4737339|  52|    1978|          0.026|\n",
      "+-----------+----+--------+---------------+\n",
      "only showing top 20 rows\n"
     ]
    }
   ],
   "source": [
    "from pyspark.sql import functions as F\n",
    "# Add conversion rate column\n",
    "conversion_counts = conversion_counts.withColumn(\n",
    "    'Conversion_Rate',\n",
    "    F.round(conversion_counts['Buy'] / (conversion_counts['Buy'] + conversion_counts['PageView']), 3)\n",
    ")\n",
    "\n",
    "conversion_counts.show()"
   ]
  },
  {
   "cell_type": "code",
   "execution_count": 67,
   "id": "dc4689e1-7335-4aa4-a937-d7b1b35cd97c",
   "metadata": {},
   "outputs": [
    {
     "name": "stdout",
     "output_type": "stream",
     "text": [
      "+-----------+-----+--------+---------------+\n",
      "|category_id|  Buy|PageView|Conversion_Rate|\n",
      "+-----------+-----+--------+---------------+\n",
      "|    1464116|34589|  684162|          0.048|\n",
      "|    2735466|33730| 1116344|          0.029|\n",
      "|    2885642|31844|  955203|          0.032|\n",
      "|    4145813|31658| 3152237|           0.01|\n",
      "|    4756105|28258| 4479754|          0.006|\n",
      "|    4801426|26495| 1865520|          0.014|\n",
      "|     982926|24823| 2800011|          0.009|\n",
      "|    2640118|18332|  730140|          0.024|\n",
      "|    4159072|18016|  188875|          0.087|\n",
      "|    1320293|17137| 1794066|          0.009|\n",
      "+-----------+-----+--------+---------------+\n",
      "\n"
     ]
    }
   ],
   "source": [
    "# Top 10 categories by number of buys\n",
    "conversion_10 = conversion_counts.orderBy(conversion_counts['Buy'].desc()).limit(10)\n",
    "conversion_10.show()"
   ]
  },
  {
   "cell_type": "code",
   "execution_count": 68,
   "id": "1f4beb42-55c0-4499-8876-77e193a17cfa",
   "metadata": {},
   "outputs": [
    {
     "name": "stdout",
     "output_type": "stream",
     "text": [
      "+-----------+-------+\n",
      "|category_id|  count|\n",
      "+-----------+-------+\n",
      "|    4756105|4479754|\n",
      "|    2355072|3153405|\n",
      "|    4145813|3152237|\n",
      "|    3607361|2977553|\n",
      "|     982926|2800011|\n",
      "|    2520377|2030255|\n",
      "|    4801426|1865520|\n",
      "|    1320293|1794066|\n",
      "|    2465336|1505542|\n",
      "|    3002561|1422563|\n",
      "|    2735466|1116344|\n",
      "|    4181361|1001627|\n",
      "|     149192| 991154|\n",
      "|    1080785| 960260|\n",
      "|    2885642| 955203|\n",
      "|    4217906| 925363|\n",
      "|     154040| 906449|\n",
      "|    3738615| 829421|\n",
      "|    1879194| 759694|\n",
      "|    2640118| 730140|\n",
      "+-----------+-------+\n",
      "only showing top 20 rows\n"
     ]
    }
   ],
   "source": [
    "from pyspark.sql import functions as F\n",
    "\n",
    "# Top categories by PageView\n",
    "top10_pv_categories = (\n",
    "    df_with_dow.filter(df_with_dow['behavior_type'] == 'PageView')\n",
    "          .groupBy('category_id')\n",
    "          .count()\n",
    "          .orderBy(F.desc('count'))\n",
    ")\n",
    "top10_pv_categories.show()  # shows all; you can add .limit(10) if you want top 10 only\n",
    "\n",
    "\n"
   ]
  },
  {
   "cell_type": "code",
   "execution_count": 69,
   "id": "bedc5c3b-3a41-434e-8f78-b8afdf90aa6b",
   "metadata": {},
   "outputs": [
    {
     "name": "stdout",
     "output_type": "stream",
     "text": [
      "+-----------+-----+\n",
      "|category_id|count|\n",
      "+-----------+-----+\n",
      "|    1464116|34589|\n",
      "|    2735466|33730|\n",
      "|    2885642|31844|\n",
      "|    4145813|31658|\n",
      "|    4756105|28258|\n",
      "|    4801426|26495|\n",
      "|     982926|24823|\n",
      "|    2640118|18332|\n",
      "|    4159072|18016|\n",
      "|    1320293|17137|\n",
      "+-----------+-----+\n",
      "\n"
     ]
    }
   ],
   "source": [
    "# Top 10 categories by Buy\n",
    "top10_buy_categories = (\n",
    "    df_with_dow.filter(df_with_dow['behavior_type'] == 'Buy')\n",
    "          .groupBy('category_id')\n",
    "          .count()\n",
    "          .orderBy(F.desc('count'))\n",
    "          .limit(10)\n",
    ")\n",
    "top10_buy_categories.show()"
   ]
  },
  {
   "cell_type": "code",
   "execution_count": 72,
   "id": "06460218-1bdc-40fc-891b-84fb0f0a8962",
   "metadata": {},
   "outputs": [
    {
     "name": "stdout",
     "output_type": "stream",
     "text": [
      "+-------+----------------+-------+\n",
      "|user_id|LastPurchaseDate|Recency|\n",
      "+-------+----------------+-------+\n",
      "|1000061|      2017-12-03|      0|\n",
      "|1000070|      2017-11-28|      5|\n",
      "|1000313|      2017-12-02|      1|\n",
      "|1001700|      2017-11-30|      3|\n",
      "|1001872|      2017-11-27|      6|\n",
      "+-------+----------------+-------+\n",
      "only showing top 5 rows\n"
     ]
    }
   ],
   "source": [
    "# Top categories by PageView\n",
    "from pyspark.sql import functions as F\n",
    "\n",
    "# 1) Only \"Buy\" operations\n",
    "buy_df = df_with_dow.filter(F.col(\"behavior_type\") == \"Buy\")\n",
    "\n",
    "# Last purchase for each user\n",
    "recency = buy_df.groupBy(\"user_id\").agg(\n",
    "    F.max(\"event_date\").alias(\"LastPurchaseDate\")\n",
    ")\n",
    "\n",
    "# 3) Obtain the latest purchase date available in the data (latest purchase transaction)\n",
    "current_date = buy_df.agg(F.max(\"event_date\").alias(\"current_date\")).collect()[0][\"current_date\"]\n",
    "\n",
    "# 4) Recency Calculation = The difference in days between the last purchase for each user and the most recent purchase in the data.\n",
    "recency = recency.withColumn(\n",
    "    \"Recency\",\n",
    "    F.datediff(F.lit(current_date), F.col(\"LastPurchaseDate\"))\n",
    ")\n",
    "\n",
    "recency.show(5)\n"
   ]
  },
  {
   "cell_type": "code",
   "execution_count": 73,
   "id": "b29169c1-5afa-47ef-a93e-f497cfe67c43",
   "metadata": {},
   "outputs": [
    {
     "name": "stdout",
     "output_type": "stream",
     "text": [
      "+-------+---------+\n",
      "|user_id|Frequency|\n",
      "+-------+---------+\n",
      "| 143889|        1|\n",
      "| 237505|       10|\n",
      "|1014309|        4|\n",
      "| 148347|        3|\n",
      "|1008961|        4|\n",
      "+-------+---------+\n",
      "only showing top 5 rows\n"
     ]
    }
   ],
   "source": [
    "from pyspark.sql import functions as F\n",
    "\n",
    "\n",
    "# Count the number of purchase transactions for each User_ID\n",
    "frequency = buy_df.groupBy(\"user_id\").agg(\n",
    "    F.count(\"behavior_type\").alias(\"Frequency\")\n",
    ")\n",
    "\n",
    "frequency.show(5)\n"
   ]
  },
  {
   "cell_type": "code",
   "execution_count": 74,
   "id": "77a78c5c-ff66-4cdf-a968-4fb7c77ab16b",
   "metadata": {},
   "outputs": [
    {
     "name": "stdout",
     "output_type": "stream",
     "text": [
      "+-------+----------------+-------+---------+\n",
      "|user_id|LastPurchaseDate|Recency|Frequency|\n",
      "+-------+----------------+-------+---------+\n",
      "|     65|      2017-12-03|      0|        2|\n",
      "|     77|      2017-12-02|      1|        2|\n",
      "|    113|      2017-12-02|      1|        1|\n",
      "|    126|      2017-11-29|      4|        1|\n",
      "|    130|      2017-12-03|      0|        3|\n",
      "+-------+----------------+-------+---------+\n",
      "only showing top 5 rows\n"
     ]
    }
   ],
   "source": [
    "#  join btween recency and frequency on User_ID\n",
    "rfm = recency.join(frequency, on=\"user_id\", how=\"inner\")\n",
    "\n",
    "# delte column LastPurshaceDate\n",
    "rfm = rfm.drop(\"LastPurshaceDate\")\n",
    "\n",
    "rfm.show(5)\n"
   ]
  },
  {
   "cell_type": "code",
   "execution_count": 75,
   "id": "a3f29ba0-8f85-48be-852b-7e1f97b808ad",
   "metadata": {},
   "outputs": [
    {
     "name": "stdout",
     "output_type": "stream",
     "text": [
      "+-------+----------------+-------+---------+-------+-------+\n",
      "|user_id|LastPurchaseDate|Recency|Frequency|R_score|F_score|\n",
      "+-------+----------------+-------+---------+-------+-------+\n",
      "|     65|      2017-12-03|      0|        2|      4|      2|\n",
      "|     77|      2017-12-02|      1|        2|      4|      2|\n",
      "|    113|      2017-12-02|      1|        1|      4|      1|\n",
      "|    126|      2017-11-29|      4|        1|      2|      1|\n",
      "|    130|      2017-12-03|      0|        3|      4|      3|\n",
      "+-------+----------------+-------+---------+-------+-------+\n",
      "only showing top 5 rows\n"
     ]
    }
   ],
   "source": [
    "from pyspark.sql.functions import when\n",
    "\n",
    "# Quantile calculation for Recency and Frequency\n",
    "recency_quartiles = rfm.approxQuantile(\"Recency\", [0.25, 0.5, 0.75], 0)\n",
    "frequency_quartiles = rfm.approxQuantile(\"Frequency\", [0.25, 0.5, 0.75], 0)\n",
    "\n",
    "# seet R_score\n",
    "rfm = rfm.withColumn(\n",
    "    \"R_score\",\n",
    "    when(rfm[\"Recency\"] <= recency_quartiles[0], 4)\n",
    "    .when(rfm[\"Recency\"] <= recency_quartiles[1], 3)\n",
    "    .when(rfm[\"Recency\"] <= recency_quartiles[2], 2)\n",
    "    .otherwise(1)\n",
    ")\n",
    "\n",
    "# seet F_score\n",
    "rfm = rfm.withColumn(\n",
    "    \"F_score\",\n",
    "    when(rfm[\"Frequency\"] <= frequency_quartiles[0], 1)\n",
    "    .when(rfm[\"Frequency\"] <= frequency_quartiles[1], 2)\n",
    "    .when(rfm[\"Frequency\"] <= frequency_quartiles[2], 3)\n",
    "    .otherwise(4)\n",
    ")\n",
    "\n",
    "rfm.show(5)\n"
   ]
  },
  {
   "cell_type": "code",
   "execution_count": 85,
   "id": "a6be0b6a-0709-4cd3-8192-7bb2cd490f9b",
   "metadata": {},
   "outputs": [],
   "source": [
    "rfm_pd = rfm.select(\"user_id\",\"Recency\", \"Frequency\",\"R_score\",\"F_score\").toPandas()"
   ]
  },
  {
   "cell_type": "code",
   "execution_count": 80,
   "id": "58556d96-ba84-451f-bee4-6ad84ce04b52",
   "metadata": {},
   "outputs": [
    {
     "data": {
      "text/plain": [
       "array([[-1.07209958, -0.34478737],\n",
       "       [-0.66041144, -0.34478737],\n",
       "       [-0.66041144, -0.69029668],\n",
       "       ...,\n",
       "       [-1.07209958, -0.34478737],\n",
       "       [ 1.39802925, -0.69029668],\n",
       "       [-0.66041144,  1.38275921]])"
      ]
     },
     "execution_count": 80,
     "metadata": {},
     "output_type": "execute_result"
    }
   ],
   "source": [
    "from sklearn.preprocessing import StandardScaler\n",
    "from yellowbrick.cluster import KElbowVisualizer\n",
    "from sklearn.cluster import KMeans\n",
    "rfm_val = rfm_pd[['Recency', 'Frequency']]\n",
    "scaler = StandardScaler()\n",
    "rfm_scaled = scaler.fit(rfm_val)\n",
    "rfm_scaled = scaler.fit_transform(rfm_val)\n",
    "rfm_scaled"
   ]
  },
  {
   "cell_type": "code",
   "execution_count": 81,
   "id": "3a2a660d-5157-45ee-9cd9-d3a385b5041b",
   "metadata": {},
   "outputs": [
    {
     "data": {
      "text/html": [
       "<div>\n",
       "<style scoped>\n",
       "    .dataframe tbody tr th:only-of-type {\n",
       "        vertical-align: middle;\n",
       "    }\n",
       "\n",
       "    .dataframe tbody tr th {\n",
       "        vertical-align: top;\n",
       "    }\n",
       "\n",
       "    .dataframe thead th {\n",
       "        text-align: right;\n",
       "    }\n",
       "</style>\n",
       "<table border=\"1\" class=\"dataframe\">\n",
       "  <thead>\n",
       "    <tr style=\"text-align: right;\">\n",
       "      <th></th>\n",
       "      <th>Recency</th>\n",
       "      <th>Frequency</th>\n",
       "    </tr>\n",
       "  </thead>\n",
       "  <tbody>\n",
       "    <tr>\n",
       "      <th>0</th>\n",
       "      <td>0</td>\n",
       "      <td>2</td>\n",
       "    </tr>\n",
       "    <tr>\n",
       "      <th>1</th>\n",
       "      <td>1</td>\n",
       "      <td>2</td>\n",
       "    </tr>\n",
       "    <tr>\n",
       "      <th>2</th>\n",
       "      <td>1</td>\n",
       "      <td>1</td>\n",
       "    </tr>\n",
       "    <tr>\n",
       "      <th>3</th>\n",
       "      <td>4</td>\n",
       "      <td>1</td>\n",
       "    </tr>\n",
       "    <tr>\n",
       "      <th>4</th>\n",
       "      <td>0</td>\n",
       "      <td>3</td>\n",
       "    </tr>\n",
       "    <tr>\n",
       "      <th>...</th>\n",
       "      <td>...</td>\n",
       "      <td>...</td>\n",
       "    </tr>\n",
       "    <tr>\n",
       "      <th>672399</th>\n",
       "      <td>3</td>\n",
       "      <td>1</td>\n",
       "    </tr>\n",
       "    <tr>\n",
       "      <th>672400</th>\n",
       "      <td>3</td>\n",
       "      <td>4</td>\n",
       "    </tr>\n",
       "    <tr>\n",
       "      <th>672401</th>\n",
       "      <td>0</td>\n",
       "      <td>2</td>\n",
       "    </tr>\n",
       "    <tr>\n",
       "      <th>672402</th>\n",
       "      <td>6</td>\n",
       "      <td>1</td>\n",
       "    </tr>\n",
       "    <tr>\n",
       "      <th>672403</th>\n",
       "      <td>1</td>\n",
       "      <td>7</td>\n",
       "    </tr>\n",
       "  </tbody>\n",
       "</table>\n",
       "<p>672404 rows × 2 columns</p>\n",
       "</div>"
      ],
      "text/plain": [
       "        Recency  Frequency\n",
       "0             0          2\n",
       "1             1          2\n",
       "2             1          1\n",
       "3             4          1\n",
       "4             0          3\n",
       "...         ...        ...\n",
       "672399        3          1\n",
       "672400        3          4\n",
       "672401        0          2\n",
       "672402        6          1\n",
       "672403        1          7\n",
       "\n",
       "[672404 rows x 2 columns]"
      ]
     },
     "execution_count": 81,
     "metadata": {},
     "output_type": "execute_result"
    }
   ],
   "source": [
    "rfm_val"
   ]
  },
  {
   "cell_type": "code",
   "execution_count": 82,
   "id": "e10cffc4-0ad4-41ac-b424-03bf0fe2257e",
   "metadata": {},
   "outputs": [
    {
     "data": {
      "image/png": "[encoded data removed]",
      "text/plain": [
       "<Figure size 600x400 with 1 Axes>"
      ]
     },
     "metadata": {},
     "output_type": "display_data"
    },
    {
     "data": {
      "text/plain": [
       "<Axes: title={'center': 'Distortion Score Elbow for KMeans Clustering'}, xlabel='k', ylabel='distortion score'>"
      ]
     },
     "execution_count": 82,
     "metadata": {},
     "output_type": "execute_result"
    }
   ],
   "source": [
    "plt.figure(figsize=(6, 4))\n",
    "model = KMeans()\n",
    "visualizer = KElbowVisualizer(model, k=(1,12), timings=False)\n",
    "visualizer.fit(rfm_scaled)  \n",
    "plt.savefig('Elbow_Plot.png')\n",
    "visualizer.show()"
   ]
  },
  {
   "cell_type": "code",
   "execution_count": 86,
   "id": "64cdac62-1d63-406b-b9d6-1e093b4b5f63",
   "metadata": {},
   "outputs": [
    {
     "data": {
      "text/html": [
       "<div>\n",
       "<style scoped>\n",
       "    .dataframe tbody tr th:only-of-type {\n",
       "        vertical-align: middle;\n",
       "    }\n",
       "\n",
       "    .dataframe tbody tr th {\n",
       "        vertical-align: top;\n",
       "    }\n",
       "\n",
       "    .dataframe thead th {\n",
       "        text-align: right;\n",
       "    }\n",
       "</style>\n",
       "<table border=\"1\" class=\"dataframe\">\n",
       "  <thead>\n",
       "    <tr style=\"text-align: right;\">\n",
       "      <th></th>\n",
       "      <th>user_id</th>\n",
       "      <th>Recency</th>\n",
       "      <th>Frequency</th>\n",
       "      <th>R_score</th>\n",
       "      <th>F_score</th>\n",
       "      <th>Cluster</th>\n",
       "    </tr>\n",
       "  </thead>\n",
       "  <tbody>\n",
       "    <tr>\n",
       "      <th>0</th>\n",
       "      <td>65</td>\n",
       "      <td>0</td>\n",
       "      <td>2</td>\n",
       "      <td>4</td>\n",
       "      <td>2</td>\n",
       "      <td>0</td>\n",
       "    </tr>\n",
       "    <tr>\n",
       "      <th>1</th>\n",
       "      <td>77</td>\n",
       "      <td>1</td>\n",
       "      <td>2</td>\n",
       "      <td>4</td>\n",
       "      <td>2</td>\n",
       "      <td>0</td>\n",
       "    </tr>\n",
       "    <tr>\n",
       "      <th>2</th>\n",
       "      <td>113</td>\n",
       "      <td>1</td>\n",
       "      <td>1</td>\n",
       "      <td>4</td>\n",
       "      <td>1</td>\n",
       "      <td>0</td>\n",
       "    </tr>\n",
       "    <tr>\n",
       "      <th>3</th>\n",
       "      <td>126</td>\n",
       "      <td>4</td>\n",
       "      <td>1</td>\n",
       "      <td>2</td>\n",
       "      <td>1</td>\n",
       "      <td>2</td>\n",
       "    </tr>\n",
       "    <tr>\n",
       "      <th>4</th>\n",
       "      <td>130</td>\n",
       "      <td>0</td>\n",
       "      <td>3</td>\n",
       "      <td>4</td>\n",
       "      <td>3</td>\n",
       "      <td>0</td>\n",
       "    </tr>\n",
       "  </tbody>\n",
       "</table>\n",
       "</div>"
      ],
      "text/plain": [
       "   user_id  Recency  Frequency  R_score  F_score  Cluster\n",
       "0       65        0          2        4        2        0\n",
       "1       77        1          2        4        2        0\n",
       "2      113        1          1        4        1        0\n",
       "3      126        4          1        2        1        2\n",
       "4      130        0          3        4        3        0"
      ]
     },
     "execution_count": 86,
     "metadata": {},
     "output_type": "execute_result"
    }
   ],
   "source": [
    "kmeans_scaled = KMeans(3)\n",
    "kmeans_scaled.fit(rfm_scaled)\n",
    "identified_clusters = kmeans_scaled.fit_predict(rfm_val)\n",
    "rfm_pd['Cluster'] = kmeans_scaled.fit_predict(rfm_scaled)\n",
    "rfm_pd.head()"
   ]
  },
  {
   "cell_type": "code",
   "execution_count": 89,
   "id": "3c4c3726-635e-465f-9699-2f847f7544d7",
   "metadata": {},
   "outputs": [],
   "source": [
    " # Filter the original dataset based on cluster labels\n",
    " cluster_0 = rfm_pd[rfm_pd['Cluster'] == 0]\n",
    " cluster_1 = rfm_pd[rfm_pd['Cluster'] == 1]\n",
    " cluster_2 = rfm_pd[rfm_pd['Cluster'] == 2]"
   ]
  },
  {
   "cell_type": "code",
   "execution_count": 90,
   "id": "0aa83380-508e-4fef-b369-1249bc67a663",
   "metadata": {},
   "outputs": [
    {
     "data": {
      "text/html": [
       "<div>\n",
       "<style scoped>\n",
       "    .dataframe tbody tr th:only-of-type {\n",
       "        vertical-align: middle;\n",
       "    }\n",
       "\n",
       "    .dataframe tbody tr th {\n",
       "        vertical-align: top;\n",
       "    }\n",
       "\n",
       "    .dataframe thead th {\n",
       "        text-align: right;\n",
       "    }\n",
       "</style>\n",
       "<table border=\"1\" class=\"dataframe\">\n",
       "  <thead>\n",
       "    <tr style=\"text-align: right;\">\n",
       "      <th></th>\n",
       "      <th>user_id</th>\n",
       "      <th>Recency</th>\n",
       "      <th>Frequency</th>\n",
       "      <th>R_score</th>\n",
       "      <th>F_score</th>\n",
       "      <th>Cluster</th>\n",
       "    </tr>\n",
       "  </thead>\n",
       "  <tbody>\n",
       "    <tr>\n",
       "      <th>count</th>\n",
       "      <td>4.043120e+05</td>\n",
       "      <td>404312.000000</td>\n",
       "      <td>404312.000000</td>\n",
       "      <td>404312.000000</td>\n",
       "      <td>404312.000000</td>\n",
       "      <td>404312.0</td>\n",
       "    </tr>\n",
       "    <tr>\n",
       "      <th>mean</th>\n",
       "      <td>5.101821e+05</td>\n",
       "      <td>1.189020</td>\n",
       "      <td>2.641346</td>\n",
       "      <td>3.468388</td>\n",
       "      <td>2.317139</td>\n",
       "      <td>0.0</td>\n",
       "    </tr>\n",
       "    <tr>\n",
       "      <th>std</th>\n",
       "      <td>2.942947e+05</td>\n",
       "      <td>1.085762</td>\n",
       "      <td>1.492035</td>\n",
       "      <td>0.767726</td>\n",
       "      <td>1.030311</td>\n",
       "      <td>0.0</td>\n",
       "    </tr>\n",
       "    <tr>\n",
       "      <th>min</th>\n",
       "      <td>4.000000e+00</td>\n",
       "      <td>0.000000</td>\n",
       "      <td>1.000000</td>\n",
       "      <td>2.000000</td>\n",
       "      <td>1.000000</td>\n",
       "      <td>0.0</td>\n",
       "    </tr>\n",
       "    <tr>\n",
       "      <th>25%</th>\n",
       "      <td>2.557602e+05</td>\n",
       "      <td>0.000000</td>\n",
       "      <td>1.000000</td>\n",
       "      <td>3.000000</td>\n",
       "      <td>1.000000</td>\n",
       "      <td>0.0</td>\n",
       "    </tr>\n",
       "    <tr>\n",
       "      <th>50%</th>\n",
       "      <td>5.100420e+05</td>\n",
       "      <td>1.000000</td>\n",
       "      <td>2.000000</td>\n",
       "      <td>4.000000</td>\n",
       "      <td>2.000000</td>\n",
       "      <td>0.0</td>\n",
       "    </tr>\n",
       "    <tr>\n",
       "      <th>75%</th>\n",
       "      <td>7.660692e+05</td>\n",
       "      <td>2.000000</td>\n",
       "      <td>4.000000</td>\n",
       "      <td>4.000000</td>\n",
       "      <td>3.000000</td>\n",
       "      <td>0.0</td>\n",
       "    </tr>\n",
       "    <tr>\n",
       "      <th>max</th>\n",
       "      <td>1.018010e+06</td>\n",
       "      <td>3.000000</td>\n",
       "      <td>6.000000</td>\n",
       "      <td>4.000000</td>\n",
       "      <td>4.000000</td>\n",
       "      <td>0.0</td>\n",
       "    </tr>\n",
       "  </tbody>\n",
       "</table>\n",
       "</div>"
      ],
      "text/plain": [
       "            user_id        Recency      Frequency        R_score  \\\n",
       "count  4.043120e+05  404312.000000  404312.000000  404312.000000   \n",
       "mean   5.101821e+05       1.189020       2.641346       3.468388   \n",
       "std    2.942947e+05       1.085762       1.492035       0.767726   \n",
       "min    4.000000e+00       0.000000       1.000000       2.000000   \n",
       "25%    2.557602e+05       0.000000       1.000000       3.000000   \n",
       "50%    5.100420e+05       1.000000       2.000000       4.000000   \n",
       "75%    7.660692e+05       2.000000       4.000000       4.000000   \n",
       "max    1.018010e+06       3.000000       6.000000       4.000000   \n",
       "\n",
       "             F_score   Cluster  \n",
       "count  404312.000000  404312.0  \n",
       "mean        2.317139       0.0  \n",
       "std         1.030311       0.0  \n",
       "min         1.000000       0.0  \n",
       "25%         1.000000       0.0  \n",
       "50%         2.000000       0.0  \n",
       "75%         3.000000       0.0  \n",
       "max         4.000000       0.0  "
      ]
     },
     "execution_count": 90,
     "metadata": {},
     "output_type": "execute_result"
    }
   ],
   "source": [
    " cluster_0.describe()\n"
   ]
  },
  {
   "cell_type": "code",
   "execution_count": 91,
   "id": "a780e825-3bcb-4f92-a40d-0b7e05b267cc",
   "metadata": {},
   "outputs": [
    {
     "data": {
      "text/html": [
       "<div>\n",
       "<style scoped>\n",
       "    .dataframe tbody tr th:only-of-type {\n",
       "        vertical-align: middle;\n",
       "    }\n",
       "\n",
       "    .dataframe tbody tr th {\n",
       "        vertical-align: top;\n",
       "    }\n",
       "\n",
       "    .dataframe thead th {\n",
       "        text-align: right;\n",
       "    }\n",
       "</style>\n",
       "<table border=\"1\" class=\"dataframe\">\n",
       "  <thead>\n",
       "    <tr style=\"text-align: right;\">\n",
       "      <th></th>\n",
       "      <th>user_id</th>\n",
       "      <th>Recency</th>\n",
       "      <th>Frequency</th>\n",
       "      <th>R_score</th>\n",
       "      <th>F_score</th>\n",
       "      <th>Cluster</th>\n",
       "    </tr>\n",
       "  </thead>\n",
       "  <tbody>\n",
       "    <tr>\n",
       "      <th>count</th>\n",
       "      <td>5.489600e+04</td>\n",
       "      <td>54896.000000</td>\n",
       "      <td>54896.000000</td>\n",
       "      <td>54896.000000</td>\n",
       "      <td>54896.0</td>\n",
       "      <td>54896.0</td>\n",
       "    </tr>\n",
       "    <tr>\n",
       "      <th>mean</th>\n",
       "      <td>5.146939e+05</td>\n",
       "      <td>1.052609</td>\n",
       "      <td>10.038582</td>\n",
       "      <td>3.556962</td>\n",
       "      <td>4.0</td>\n",
       "      <td>1.0</td>\n",
       "    </tr>\n",
       "    <tr>\n",
       "      <th>std</th>\n",
       "      <td>2.942952e+05</td>\n",
       "      <td>1.356300</td>\n",
       "      <td>4.983145</td>\n",
       "      <td>0.797367</td>\n",
       "      <td>0.0</td>\n",
       "      <td>0.0</td>\n",
       "    </tr>\n",
       "    <tr>\n",
       "      <th>min</th>\n",
       "      <td>2.000000e+00</td>\n",
       "      <td>0.000000</td>\n",
       "      <td>7.000000</td>\n",
       "      <td>1.000000</td>\n",
       "      <td>4.0</td>\n",
       "      <td>1.0</td>\n",
       "    </tr>\n",
       "    <tr>\n",
       "      <th>25%</th>\n",
       "      <td>2.601045e+05</td>\n",
       "      <td>0.000000</td>\n",
       "      <td>7.000000</td>\n",
       "      <td>3.000000</td>\n",
       "      <td>4.0</td>\n",
       "      <td>1.0</td>\n",
       "    </tr>\n",
       "    <tr>\n",
       "      <th>50%</th>\n",
       "      <td>5.174935e+05</td>\n",
       "      <td>1.000000</td>\n",
       "      <td>9.000000</td>\n",
       "      <td>4.000000</td>\n",
       "      <td>4.0</td>\n",
       "      <td>1.0</td>\n",
       "    </tr>\n",
       "    <tr>\n",
       "      <th>75%</th>\n",
       "      <td>7.662680e+05</td>\n",
       "      <td>2.000000</td>\n",
       "      <td>11.000000</td>\n",
       "      <td>4.000000</td>\n",
       "      <td>4.0</td>\n",
       "      <td>1.0</td>\n",
       "    </tr>\n",
       "    <tr>\n",
       "      <th>max</th>\n",
       "      <td>1.017999e+06</td>\n",
       "      <td>9.000000</td>\n",
       "      <td>262.000000</td>\n",
       "      <td>4.000000</td>\n",
       "      <td>4.0</td>\n",
       "      <td>1.0</td>\n",
       "    </tr>\n",
       "  </tbody>\n",
       "</table>\n",
       "</div>"
      ],
      "text/plain": [
       "            user_id       Recency     Frequency       R_score  F_score  \\\n",
       "count  5.489600e+04  54896.000000  54896.000000  54896.000000  54896.0   \n",
       "mean   5.146939e+05      1.052609     10.038582      3.556962      4.0   \n",
       "std    2.942952e+05      1.356300      4.983145      0.797367      0.0   \n",
       "min    2.000000e+00      0.000000      7.000000      1.000000      4.0   \n",
       "25%    2.601045e+05      0.000000      7.000000      3.000000      4.0   \n",
       "50%    5.174935e+05      1.000000      9.000000      4.000000      4.0   \n",
       "75%    7.662680e+05      2.000000     11.000000      4.000000      4.0   \n",
       "max    1.017999e+06      9.000000    262.000000      4.000000      4.0   \n",
       "\n",
       "       Cluster  \n",
       "count  54896.0  \n",
       "mean       1.0  \n",
       "std        0.0  \n",
       "min        1.0  \n",
       "25%        1.0  \n",
       "50%        1.0  \n",
       "75%        1.0  \n",
       "max        1.0  "
      ]
     },
     "execution_count": 91,
     "metadata": {},
     "output_type": "execute_result"
    }
   ],
   "source": [
    " cluster_1.describe()\n"
   ]
  },
  {
   "cell_type": "code",
   "execution_count": 92,
   "id": "1da5aa1a-9b41-4790-a2db-4537a1625a40",
   "metadata": {},
   "outputs": [
    {
     "data": {
      "text/html": [
       "<div>\n",
       "<style scoped>\n",
       "    .dataframe tbody tr th:only-of-type {\n",
       "        vertical-align: middle;\n",
       "    }\n",
       "\n",
       "    .dataframe tbody tr th {\n",
       "        vertical-align: top;\n",
       "    }\n",
       "\n",
       "    .dataframe thead th {\n",
       "        text-align: right;\n",
       "    }\n",
       "</style>\n",
       "<table border=\"1\" class=\"dataframe\">\n",
       "  <thead>\n",
       "    <tr style=\"text-align: right;\">\n",
       "      <th></th>\n",
       "      <th>user_id</th>\n",
       "      <th>Recency</th>\n",
       "      <th>Frequency</th>\n",
       "      <th>R_score</th>\n",
       "      <th>F_score</th>\n",
       "      <th>Cluster</th>\n",
       "    </tr>\n",
       "  </thead>\n",
       "  <tbody>\n",
       "    <tr>\n",
       "      <th>count</th>\n",
       "      <td>2.131960e+05</td>\n",
       "      <td>213196.000000</td>\n",
       "      <td>213196.000000</td>\n",
       "      <td>213196.000000</td>\n",
       "      <td>213196.000000</td>\n",
       "      <td>213196.0</td>\n",
       "    </tr>\n",
       "    <tr>\n",
       "      <th>mean</th>\n",
       "      <td>5.100816e+05</td>\n",
       "      <td>5.687372</td>\n",
       "      <td>1.861203</td>\n",
       "      <td>1.272707</td>\n",
       "      <td>1.729305</td>\n",
       "      <td>2.0</td>\n",
       "    </tr>\n",
       "    <tr>\n",
       "      <th>std</th>\n",
       "      <td>2.939374e+05</td>\n",
       "      <td>1.405500</td>\n",
       "      <td>1.227616</td>\n",
       "      <td>0.445352</td>\n",
       "      <td>0.910645</td>\n",
       "      <td>0.0</td>\n",
       "    </tr>\n",
       "    <tr>\n",
       "      <th>min</th>\n",
       "      <td>1.100000e+01</td>\n",
       "      <td>4.000000</td>\n",
       "      <td>1.000000</td>\n",
       "      <td>1.000000</td>\n",
       "      <td>1.000000</td>\n",
       "      <td>2.0</td>\n",
       "    </tr>\n",
       "    <tr>\n",
       "      <th>25%</th>\n",
       "      <td>2.562868e+05</td>\n",
       "      <td>4.000000</td>\n",
       "      <td>1.000000</td>\n",
       "      <td>1.000000</td>\n",
       "      <td>1.000000</td>\n",
       "      <td>2.0</td>\n",
       "    </tr>\n",
       "    <tr>\n",
       "      <th>50%</th>\n",
       "      <td>5.106525e+05</td>\n",
       "      <td>6.000000</td>\n",
       "      <td>1.000000</td>\n",
       "      <td>1.000000</td>\n",
       "      <td>1.000000</td>\n",
       "      <td>2.0</td>\n",
       "    </tr>\n",
       "    <tr>\n",
       "      <th>75%</th>\n",
       "      <td>7.627878e+05</td>\n",
       "      <td>7.000000</td>\n",
       "      <td>2.000000</td>\n",
       "      <td>2.000000</td>\n",
       "      <td>2.000000</td>\n",
       "      <td>2.0</td>\n",
       "    </tr>\n",
       "    <tr>\n",
       "      <th>max</th>\n",
       "      <td>1.018011e+06</td>\n",
       "      <td>9.000000</td>\n",
       "      <td>9.000000</td>\n",
       "      <td>2.000000</td>\n",
       "      <td>4.000000</td>\n",
       "      <td>2.0</td>\n",
       "    </tr>\n",
       "  </tbody>\n",
       "</table>\n",
       "</div>"
      ],
      "text/plain": [
       "            user_id        Recency      Frequency        R_score  \\\n",
       "count  2.131960e+05  213196.000000  213196.000000  213196.000000   \n",
       "mean   5.100816e+05       5.687372       1.861203       1.272707   \n",
       "std    2.939374e+05       1.405500       1.227616       0.445352   \n",
       "min    1.100000e+01       4.000000       1.000000       1.000000   \n",
       "25%    2.562868e+05       4.000000       1.000000       1.000000   \n",
       "50%    5.106525e+05       6.000000       1.000000       1.000000   \n",
       "75%    7.627878e+05       7.000000       2.000000       2.000000   \n",
       "max    1.018011e+06       9.000000       9.000000       2.000000   \n",
       "\n",
       "             F_score   Cluster  \n",
       "count  213196.000000  213196.0  \n",
       "mean        1.729305       2.0  \n",
       "std         0.910645       0.0  \n",
       "min         1.000000       2.0  \n",
       "25%         1.000000       2.0  \n",
       "50%         1.000000       2.0  \n",
       "75%         2.000000       2.0  \n",
       "max         4.000000       2.0  "
      ]
     },
     "execution_count": 92,
     "metadata": {},
     "output_type": "execute_result"
    }
   ],
   "source": [
    " cluster_2.describe()"
   ]
  },
  {
   "cell_type": "code",
   "execution_count": 94,
   "id": "9810a1e8-f6b4-49e6-9cfe-d0433d30fea5",
   "metadata": {},
   "outputs": [
    {
     "data": {
      "text/html": [
       "<div>\n",
       "<style scoped>\n",
       "    .dataframe tbody tr th:only-of-type {\n",
       "        vertical-align: middle;\n",
       "    }\n",
       "\n",
       "    .dataframe tbody tr th {\n",
       "        vertical-align: top;\n",
       "    }\n",
       "\n",
       "    .dataframe thead th {\n",
       "        text-align: right;\n",
       "    }\n",
       "</style>\n",
       "<table border=\"1\" class=\"dataframe\">\n",
       "  <thead>\n",
       "    <tr style=\"text-align: right;\">\n",
       "      <th></th>\n",
       "      <th>user_id</th>\n",
       "      <th>Recency</th>\n",
       "      <th>Frequency</th>\n",
       "      <th>R_score</th>\n",
       "      <th>F_score</th>\n",
       "      <th>Cluster</th>\n",
       "      <th>class</th>\n",
       "    </tr>\n",
       "  </thead>\n",
       "  <tbody>\n",
       "    <tr>\n",
       "      <th>0</th>\n",
       "      <td>65</td>\n",
       "      <td>0</td>\n",
       "      <td>2</td>\n",
       "      <td>4</td>\n",
       "      <td>2</td>\n",
       "      <td>0</td>\n",
       "      <td>Churn Risk Customers</td>\n",
       "    </tr>\n",
       "    <tr>\n",
       "      <th>1</th>\n",
       "      <td>77</td>\n",
       "      <td>1</td>\n",
       "      <td>2</td>\n",
       "      <td>4</td>\n",
       "      <td>2</td>\n",
       "      <td>0</td>\n",
       "      <td>Churn Risk Customers</td>\n",
       "    </tr>\n",
       "    <tr>\n",
       "      <th>2</th>\n",
       "      <td>113</td>\n",
       "      <td>1</td>\n",
       "      <td>1</td>\n",
       "      <td>4</td>\n",
       "      <td>1</td>\n",
       "      <td>0</td>\n",
       "      <td>Churn Risk Customers</td>\n",
       "    </tr>\n",
       "    <tr>\n",
       "      <th>3</th>\n",
       "      <td>126</td>\n",
       "      <td>4</td>\n",
       "      <td>1</td>\n",
       "      <td>2</td>\n",
       "      <td>1</td>\n",
       "      <td>2</td>\n",
       "      <td>High-Value Customers</td>\n",
       "    </tr>\n",
       "    <tr>\n",
       "      <th>4</th>\n",
       "      <td>130</td>\n",
       "      <td>0</td>\n",
       "      <td>3</td>\n",
       "      <td>4</td>\n",
       "      <td>3</td>\n",
       "      <td>0</td>\n",
       "      <td>Churn Risk Customers</td>\n",
       "    </tr>\n",
       "  </tbody>\n",
       "</table>\n",
       "</div>"
      ],
      "text/plain": [
       "   user_id  Recency  Frequency  R_score  F_score  Cluster  \\\n",
       "0       65        0          2        4        2        0   \n",
       "1       77        1          2        4        2        0   \n",
       "2      113        1          1        4        1        0   \n",
       "3      126        4          1        2        1        2   \n",
       "4      130        0          3        4        3        0   \n",
       "\n",
       "                  class  \n",
       "0  Churn Risk Customers  \n",
       "1  Churn Risk Customers  \n",
       "2  Churn Risk Customers  \n",
       "3  High-Value Customers  \n",
       "4  Churn Risk Customers  "
      ]
     },
     "execution_count": 94,
     "metadata": {},
     "output_type": "execute_result"
    }
   ],
   "source": [
    "# After we added the cluster_pred column in rfm_pd\n",
    "def categorize_customers(row):\n",
    "    if row['Cluster'] == 0:\n",
    "        return 'Churn Risk Customers'\n",
    "    elif row['Cluster'] == 1:\n",
    "        return 'Potential Customers'\n",
    "    elif row['Cluster'] == 2:\n",
    "        return 'High-Value Customers'\n",
    "\n",
    "rfm_pd['class'] = rfm_pd.apply(categorize_customers, axis=1)\n",
    "\n",
    "# See the first 5 records.\n",
    "rfm_pd.head()\n"
   ]
  },
  {
   "cell_type": "code",
   "execution_count": 95,
   "id": "7e036116-1a73-42d3-89f4-2e03fbbee0a4",
   "metadata": {},
   "outputs": [
    {
     "data": {
      "text/html": [
       "<div>\n",
       "<style scoped>\n",
       "    .dataframe tbody tr th:only-of-type {\n",
       "        vertical-align: middle;\n",
       "    }\n",
       "\n",
       "    .dataframe tbody tr th {\n",
       "        vertical-align: top;\n",
       "    }\n",
       "\n",
       "    .dataframe thead th {\n",
       "        text-align: right;\n",
       "    }\n",
       "</style>\n",
       "<table border=\"1\" class=\"dataframe\">\n",
       "  <thead>\n",
       "    <tr style=\"text-align: right;\">\n",
       "      <th></th>\n",
       "      <th>Customer Class</th>\n",
       "      <th>Counts</th>\n",
       "    </tr>\n",
       "  </thead>\n",
       "  <tbody>\n",
       "    <tr>\n",
       "      <th>0</th>\n",
       "      <td>Churn Risk Customers</td>\n",
       "      <td>404312</td>\n",
       "    </tr>\n",
       "    <tr>\n",
       "      <th>1</th>\n",
       "      <td>High-Value Customers</td>\n",
       "      <td>213196</td>\n",
       "    </tr>\n",
       "    <tr>\n",
       "      <th>2</th>\n",
       "      <td>Potential Customers</td>\n",
       "      <td>54896</td>\n",
       "    </tr>\n",
       "  </tbody>\n",
       "</table>\n",
       "</div>"
      ],
      "text/plain": [
       "         Customer Class  Counts\n",
       "0  Churn Risk Customers  404312\n",
       "1  High-Value Customers  213196\n",
       "2   Potential Customers   54896"
      ]
     },
     "execution_count": 95,
     "metadata": {},
     "output_type": "execute_result"
    }
   ],
   "source": [
    "customer_class = rfm_pd.groupby('class')['user_id'].count().reset_index()\n",
    "customer_class.columns = ['Customer Class', 'Counts']\n",
    "customer_class.head()\n"
   ]
  },
  {
   "cell_type": "code",
   "execution_count": 99,
   "id": "4c2d525c-3e28-40fc-992e-14d899658d75",
   "metadata": {},
   "outputs": [
    {
     "data": {
      "image/png": "[encoded data removed]",
      "text/plain": [
       "<Figure size 400x400 with 1 Axes>"
      ]
     },
     "metadata": {},
     "output_type": "display_data"
    }
   ],
   "source": [
    "plt.figure(figsize=(4, 4))\n",
    "plt.pie(customer_class['Counts'], labels=customer_class['Customer Class'], autopct='%1.1f%%', explode=[0.05]*3)\n",
    "plt.title('RFM Analysis', fontsize=15)\n",
    "plt.savefig('RFM Analysis.png', format='png', bbox_inches='tight')\n",
    "plt.show()"
   ]
  },
  {
   "cell_type": "markdown",
   "id": "38191a8a-34ae-4912-8f47-c1f03d85de06",
   "metadata": {},
   "source": [
    " 4. Predictive Behavior Modeling\n"
   ]
  },
  {
   "cell_type": "code",
   "execution_count": 102,
   "id": "7835845d-47c4-4c26-ab9d-423e8f9274a5",
   "metadata": {},
   "outputs": [],
   "source": [
    "import torch\n",
    "import torch.nn as nn\n",
    "import torch.optim as optim\n",
    "from torch.utils.data import Dataset, DataLoader\n",
    "from sklearn.model_selection import train_test_split\n",
    "from torch.nn.utils.rnn import pack_padded_sequence, pad_packed_sequence\n",
    "from tqdm import tqdm\n",
    "from sklearn.metrics import accuracy_score"
   ]
  },
  {
   "cell_type": "code",
   "execution_count": 104,
   "id": "df64986f-eacb-4b0d-88fc-56a193408073",
   "metadata": {},
   "outputs": [
    {
     "data": {
      "text/plain": [
       "Row(user_id=1, item_id=4615417, category_id=4145813, behavior_type='PageView', timestamp=1511870864, event_time=datetime.datetime(2017, 11, 28, 14, 7, 44), event_date=datetime.date(2017, 11, 28), event_hour=14, event_dow='Tuesday', Day_order=2)"
      ]
     },
     "execution_count": 104,
     "metadata": {},
     "output_type": "execute_result"
    }
   ],
   "source": [
    "df_with_dow.head()"
   ]
  },
  {
   "cell_type": "code",
   "execution_count": 106,
   "id": "e9804c6a-bcec-4499-8d49-0e0cc91c31f2",
   "metadata": {},
   "outputs": [
    {
     "name": "stdout",
     "output_type": "stream",
     "text": [
      "+-------+-------+-----------+-------------+----------+-------------------+----------+----------+---------+---------+--------------+\n",
      "|item_id|user_id|category_id|behavior_type| timestamp|         event_time|event_date|event_hour|event_dow|Day_order|Behavior_Count|\n",
      "+-------+-------+-----------+-------------+----------+-------------------+----------+----------+---------+---------+--------------+\n",
      "|    142| 932034|    4160459|     PageView|1512310629|2017-12-03 16:17:09|2017-12-03|        16|   Sunday|        7|             6|\n",
      "|    142| 932034|    4160459|     PageView|1512313220|2017-12-03 17:00:20|2017-12-03|        17|   Sunday|        7|             6|\n",
      "|    142| 932034|    4160459|     PageView|1512309968|2017-12-03 16:06:08|2017-12-03|        16|   Sunday|        7|             6|\n",
      "|    142| 932034|    4160459|     PageView|1512311235|2017-12-03 16:27:15|2017-12-03|        16|   Sunday|        7|             6|\n",
      "|    142| 932034|    4160459|     PageView|1512310735|2017-12-03 16:18:55|2017-12-03|        16|   Sunday|        7|             6|\n",
      "+-------+-------+-----------+-------------+----------+-------------------+----------+----------+---------+---------+--------------+\n",
      "only showing top 5 rows\n"
     ]
    }
   ],
   "source": [
    "from pyspark.sql.functions import col, count\n",
    "\n",
    "# 1. Sort by user_id and event_time\n",
    "df_with_dow_time = df_with_dow.orderBy(['user_id', 'event_time'])\n",
    "\n",
    "# 2. Count the number of interactions for each (item_id, user_id)\n",
    "behavior_count = (\n",
    "    df_with_dow_time\n",
    "    .groupBy(\"item_id\", \"user_id\")\n",
    "    .agg(count(\"behavior_type\").alias(\"Behavior_Count\"))\n",
    ")\n",
    "\n",
    "# 3. Filter by the number of behaviors >= 5\n",
    "filtered_bc = behavior_count.filter(col(\"Behavior_Count\") >= 5)\n",
    "\n",
    "# 4. Joining (join) with the original table\n",
    "df_5M_filtered = df_with_dow_time.join(filtered_bc, on=[\"item_id\", \"user_id\"], how=\"inner\")\n",
    "\n",
    "df_5M_filtered.show(5)\n"
   ]
  },
  {
   "cell_type": "code",
   "execution_count": 107,
   "id": "b6beda47-8296-47a0-9912-903154bfbc0d",
   "metadata": {},
   "outputs": [
    {
     "name": "stdout",
     "output_type": "stream",
     "text": [
      "+-------+-----------------------------------------------------------------------------------------------------+\n",
      "|user_id|Sequence                                                                                             |\n",
      "+-------+-----------------------------------------------------------------------------------------------------+\n",
      "|192634 |[PageView, AddToCart, PageView, PageView, PageView]                                                  |\n",
      "|932034 |[PageView, PageView, PageView, PageView, PageView, PageView]                                         |\n",
      "|26503  |[PageView, PageView, PageView, Buy, PageView]                                                        |\n",
      "|978561 |[AddToCart, PageView, PageView, PageView, PageView, PageView, PageView, PageView, PageView, PageView]|\n",
      "|825475 |[Buy, PageView, PageView, PageView, Buy]                                                             |\n",
      "+-------+-----------------------------------------------------------------------------------------------------+\n",
      "only showing top 5 rows\n"
     ]
    }
   ],
   "source": [
    "from pyspark.sql.functions import collect_list\n",
    "\n",
    "# 1. Collecting the behaviors for each user_id and item_id in the form of a list\n",
    "sequence = (\n",
    "    df_5M_filtered\n",
    "    .groupBy(\"item_id\", \"user_id\")\n",
    "    .agg(collect_list(\"behavior_type\").alias(\"Sequence\"))\n",
    ")\n",
    "\n",
    "# 2. Delete the item_id column (if not needed)\n",
    "sequence = sequence.drop(\"item_id\")\n",
    "\n",
    "# 3. Display the first 5 lines\n",
    "sequence.show(5, truncate=False)\n"
   ]
  },
  {
   "cell_type": "code",
   "execution_count": null,
   "id": "0a2daa44-7358-4069-a810-c3f5ab0f5965",
   "metadata": {},
   "outputs": [],
   "source": [
    "from pyspark.sql.functions import col\n",
    "\n",
    "# Filter negative values\n",
    "df_5M_filteredAbove0 = df_5M_filtered.filter(col(\"timestamp\") >= 0)\n",
    "\n",
    "# Convert to Pandas after filtering\n",
    "df_5M_filtered_pandas = df_5M_filteredAbove0.toPandas()\n"
   ]
  },
  {
   "cell_type": "code",
   "execution_count": 77,
   "id": "1abe8f34-9caf-4f6d-ac19-629337a340f4",
   "metadata": {},
   "outputs": [
    {
     "name": "stdout",
     "output_type": "stream",
     "text": [
      "Baseline runtime: 27.61 seconds\n",
      "Spark runtime: 0.60 seconds\n",
      "Speedup: 46.12x\n"
     ]
    }
   ],
   "source": [
    "# Time measurement with and without Spark for  Collecting the behaviors for each user_id and item_id in the form of a list\n",
    "import time\n",
    "from pyspark.sql import SparkSession\n",
    "\n",
    "# 1) Without Spark (baseline)\n",
    "\n",
    "start_time = time.time()\n",
    "sequence_panda = (\n",
    "    df_5M_filtered_pandas\n",
    "    .groupby([\"item_id\", \"user_id\"])[\"behavior_type\"]\n",
    "    .agg(list)  \n",
    "    .reset_index(name=\"Sequence\")\n",
    ")\n",
    "end_time = time.time()\n",
    "baseline_time = end_time - start_time\n",
    "print(f\"Baseline runtime: {baseline_time:.2f} seconds\")\n",
    "\n",
    "\n",
    "# 2) With Spark\n",
    "\n",
    "start_time = time.time()\n",
    "sequence_sprk = (\n",
    "    df_5M_filteredAbove0\n",
    "    .groupBy(\"item_id\", \"user_id\")\n",
    "    .agg(collect_list(\"behavior_type\").alias(\"Sequence\"))\n",
    ")\n",
    "end_time = time.time()\n",
    "spark_time = end_time - start_time\n",
    "print(f\"Spark runtime: {spark_time:.2f} seconds\")\n",
    "\n",
    "# 3) Speedup\n",
    "speedup = baseline_time / spark_time if spark_time > 0 else None\n",
    "print(f\"Speedup: {speedup:.2f}x\")\n"
   ]
  },
  {
   "cell_type": "code",
   "execution_count": null,
   "id": "15f75590-d221-4539-8f32-4db7f2db03ae",
   "metadata": {},
   "outputs": [],
   "source": [
    "# convert from Spark DF to Pandas\n",
    "sequence_pd = sequence.toPandas()\n"
   ]
  },
  {
   "cell_type": "code",
   "execution_count": 110,
   "id": "53ebfbfb",
   "metadata": {},
   "outputs": [],
   "source": [
    "# convert from Spark DF to Pandas\n",
    "sequence_pd = sequence.toPandas()\n"
   ]
  },
  {
   "cell_type": "code",
   "execution_count": 111,
   "id": "fe845716-24ac-4e33-9e93-8ff0ae17ca33",
   "metadata": {},
   "outputs": [],
   "source": [
    "from sklearn.model_selection import train_test_split\n",
    "\n",
    "# Train / Test split\n",
    "sequence_train, sequence_test = train_test_split(sequence_pd, test_size=0.2, random_state=42)\n",
    "\n",
    "# Validation / Test split\n",
    "sequence_val, sequence_test = train_test_split(sequence_test, test_size=0.5, random_state=42)\n"
   ]
  },
  {
   "cell_type": "code",
   "execution_count": 135,
   "id": "8936ba2b-bb5e-46f3-92fb-afff38d0dd66",
   "metadata": {},
   "outputs": [
    {
     "name": "stderr",
     "output_type": "stream",
     "text": [
      "100%|████████████████████████████████████████████████████████████████████████████| 63540/63540 [45:25<00:00, 23.31it/s]\n"
     ]
    },
    {
     "name": "stdout",
     "output_type": "stream",
     "text": [
      "Epoch 0: Train Loss = 0.3797, Val Loss = 4.4899\n"
     ]
    },
    {
     "name": "stderr",
     "output_type": "stream",
     "text": [
      "100%|████████████████████████████████████████████████████████████████████████████| 63540/63540 [44:04<00:00, 24.02it/s]\n"
     ]
    },
    {
     "name": "stdout",
     "output_type": "stream",
     "text": [
      "Epoch 1: Train Loss = 0.3784, Val Loss = 4.4869\n"
     ]
    }
   ],
   "source": [
    "import torch\n",
    "import torch.nn as nn\n",
    "import torch.optim as optim\n",
    "from torch.utils.data import Dataset, DataLoader\n",
    "from torch.nn.utils.rnn import pack_padded_sequence, pad_packed_sequence\n",
    "from tqdm import tqdm\n",
    "from sklearn.metrics import accuracy_score\n",
    "\n",
    "# ========= Dataset =========\n",
    "PADDING_IDX = 4\n",
    "class UserBehaviorDataset(Dataset):\n",
    "    def __init__(self, dataframe):\n",
    "        self.dataframe = dataframe\n",
    "        self.token_to_idx = {\n",
    "            'PageView': 0, \n",
    "            'AddToCart': 1, \n",
    "            'Buy': 2, \n",
    "            'Favorite': 3,  \n",
    "            'Padding': PADDING_IDX\n",
    "        }\n",
    "    def __len__(self):\n",
    "        return len(self.dataframe)\n",
    "    def __getitem__(self, idx):\n",
    "        sequence = self.dataframe.iloc[idx, 1]\n",
    "\n",
    "        # String Encoding\n",
    "        sequence_idx = [self.token_to_idx[action] for action in sequence]\n",
    "\n",
    "        # The introduction: everything except the last element\n",
    "        input_seq = sequence_idx[:-1]\n",
    "        # The goal: everything except the first element.\n",
    "        target_seq = sequence_idx[1:]\n",
    "\n",
    "        return torch.tensor(input_seq), torch.tensor(target_seq), torch.tensor(len(input_seq))\n",
    "\n",
    "def pad_collate(batch):\n",
    "    (xx, yy, lens) = zip(*batch)\n",
    "    x_lens = torch.tensor(lens)\n",
    "\n",
    "    xx_pad = torch.nn.utils.rnn.pad_sequence(xx, batch_first=True, padding_value=PADDING_IDX)\n",
    "    yy_pad = torch.nn.utils.rnn.pad_sequence(yy, batch_first=True, padding_value=PADDING_IDX)\n",
    "    return xx_pad, yy_pad, x_lens\n",
    "\n",
    "# ========= Model =========\n",
    "class LSTMBehaviorModel(nn.Module):\n",
    "    def __init__(self, num_tokens, hidden_size=128, num_layers=3,dropout=0.1):\n",
    "        super(LSTMBehaviorModel, self).__init__()\n",
    "        self.hidden_size = hidden_size\n",
    "        self.num_layers = num_layers\n",
    "        self.embed = nn.Embedding(num_tokens, hidden_size, padding_idx=PADDING_IDX)\n",
    "        self.lstm = nn.LSTM(hidden_size, hidden_size, num_layers, batch_first=True, dropout=dropout )\n",
    "        self.fc = nn.Linear(hidden_size, num_tokens)\n",
    "    def forward(self, x, x_lens):\n",
    "        x = self.embed(x)\n",
    "        packed_x = pack_padded_sequence(x, x_lens.cpu(), batch_first=True, enforce_sorted=False)\n",
    "        h0 = torch.zeros(self.num_layers, x.size(0), self.hidden_size).to(x.device)\n",
    "        c0 = torch.zeros(self.num_layers, x.size(0), self.hidden_size).to(x.device)\n",
    "        packed_out, _ = self.lstm(packed_x, (h0, c0))\n",
    "        out, _ = pad_packed_sequence(packed_out, batch_first=True, padding_value=PADDING_IDX)\n",
    "        out = self.fc(out)\n",
    "        return out\n",
    "\n",
    "# ========= Training =========\n",
    "device = torch.device(\"cuda:0\" if torch.cuda.is_available() else \"cpu\")\n",
    "model = LSTMBehaviorModel(num_tokens=5).to(device)\n",
    "\n",
    "class_weights = torch.tensor([1.0, 1.5, 2.0, 1.2, 0.0], dtype=torch.float).to(device)\n",
    "criterion = nn.CrossEntropyLoss(weight=class_weights, ignore_index=PADDING_IDX, reduction='none').to(device) \n",
    "optimizer = optim.Adam(model.parameters(), lr=0.001)\n",
    "\n",
    "# scheduler = torch.optim.lr_scheduler.ReduceLROnPlateau(optimizer, mode='min', factor=0.5, patience=5)\n",
    "scheduler = torch.optim.lr_scheduler.StepLR(optimizer, step_size=5, gamma=0.5)\n",
    "\n",
    "train_dataset = UserBehaviorDataset(sequence_train)\n",
    "val_dataset = UserBehaviorDataset(sequence_val)\n",
    "train_loader = DataLoader(train_dataset, batch_size=16, shuffle=True, collate_fn=pad_collate)\n",
    "val_loader = DataLoader(val_dataset, batch_size=16, shuffle=False, collate_fn=pad_collate)\n",
    "\n",
    "best_val_loss = float('inf')\n",
    "patience, patience_counter = 5, 0\n",
    "num_epochs = 2\n",
    "train_loss_list = []\n",
    "\n",
    "for epoch in range(num_epochs):\n",
    "    # Training\n",
    "    model.train()\n",
    "    total_train_loss = 0\n",
    "    for x_padded, y_padded, x_lens in tqdm(train_loader):\n",
    "        x_padded, y_padded, x_lens = x_padded.to(device), y_padded.to(device), x_lens.to(device)\n",
    "        optimizer.zero_grad()\n",
    "        output = model(x_padded, x_lens)\n",
    "        loss = criterion(output.view(-1, 5), y_padded.view(-1))   \n",
    "        loss = loss.mean()\n",
    "        train_loss_list.append(loss.item())\n",
    "        loss.backward()\n",
    "        \n",
    "        torch.nn.utils.clip_grad_norm_(model.parameters(), max_norm=5)\n",
    "\n",
    "        optimizer.step()\n",
    "        total_train_loss += loss.item()\n",
    "    \n",
    "    # Validation\n",
    "    model.eval()\n",
    "    total_val_loss = 0\n",
    "    with torch.no_grad():\n",
    "        for x_padded, y_padded, x_lens in val_loader:\n",
    "            x_padded, y_padded, x_lens = x_padded.to(device), y_padded.to(device), x_lens.to(device)\n",
    "            output = model(x_padded, x_lens)\n",
    "            \n",
    "            val_loss = criterion(output.view(-1, 5), y_padded.view(-1))\n",
    "            val_loss = val_loss.view(x_padded.size(0), -1).sum(dim=1).mean() \n",
    "            \n",
    "            total_val_loss += val_loss.item()\n",
    "\n",
    "    avg_train_loss = total_train_loss / len(train_loader)\n",
    "    avg_val_loss = total_val_loss / len(val_loader)\n",
    "    scheduler.step(avg_val_loss)\n",
    "    \n",
    "    print(f\"Epoch {epoch}: Train Loss = {avg_train_loss:.4f}, Val Loss = {avg_val_loss:.4f}\")\n",
    "\n",
    "    # EarlyStopping\n",
    "    if avg_val_loss < best_val_loss:\n",
    "        best_val_loss = avg_val_loss\n",
    "        patience_counter = 0\n",
    "        torch.save(model.state_dict(), 'best_model.pth')\n",
    "    else:\n",
    "        patience_counter += 1\n",
    "        if patience_counter >= patience:\n",
    "            print(\"Early stopping triggered.\")\n",
    "            break\n",
    "            \n"
   ]
  },
  {
   "cell_type": "code",
   "execution_count": 154,
   "id": "3d7f70ec-3502-4602-b10f-164a6591cf41",
   "metadata": {},
   "outputs": [
    {
     "data": {
      "image/png": "[encoded data removed]",
      "text/plain": [
       "<Figure size 1000x600 with 1 Axes>"
      ]
     },
     "metadata": {},
     "output_type": "display_data"
    }
   ],
   "source": [
    "# plot training loss curve\n",
    "plt.figure(figsize=(10, 6))\n",
    "plt.plot(list(range(0, len(train_loss_list))), train_loss_list, marker='o', color='b', label='Training Loss')\n",
    "plt.title('Training Loss Curve')\n",
    "plt.xlabel('Steps')\n",
    "plt.ylabel('Loss')\n",
    "plt.legend()\n",
    "plt.savefig(\"loss.png\", dpi=600)\n",
    "plt.show()"
   ]
  },
  {
   "cell_type": "code",
   "execution_count": 136,
   "id": "e0769f05-0a4e-4afe-bf4c-c2f16fdbe076",
   "metadata": {},
   "outputs": [
    {
     "name": "stdout",
     "output_type": "stream",
     "text": [
      "Test Accuracy (Next-Step Prediction): 0.8634\n"
     ]
    }
   ],
   "source": [
    "# ========= Evaluation =========\n",
    "test_dataset = UserBehaviorDataset(sequence_test)\n",
    "test_loader = DataLoader(test_dataset, batch_size=16, shuffle=False, collate_fn=pad_collate)\n",
    "\n",
    "model.eval()\n",
    "all_predictions, all_labels = [], []\n",
    "with torch.no_grad():\n",
    "    for x_padded, y_padded, x_lens in test_loader:\n",
    "        x_padded, y_padded, x_lens = x_padded.to(device), y_padded.to(device), x_lens.to(device)\n",
    "        output = model(x_padded, x_lens)\n",
    "        preds = output.argmax(dim=-1)  # The expectation for each step was taken.\n",
    "        for i, length in enumerate(x_lens):\n",
    "            # We only compare up to the actual length.\n",
    "            all_predictions.extend(preds[i, :length].tolist())\n",
    "            all_labels.extend(y_padded[i, :length].tolist())\n",
    "\n",
    "acc = accuracy_score(all_labels, all_predictions)\n",
    "print(f\"Test Accuracy (Next-Step Prediction): {acc:.4f}\")"
   ]
  },
  {
   "cell_type": "code",
   "execution_count": null,
   "id": "21856d96-1ea4-48ec-acbb-1172d9b2ea41",
   "metadata": {},
   "outputs": [],
   "source": []
  },
  {
   "cell_type": "code",
   "execution_count": null,
   "id": "aa2da68f-b73d-4ec9-86c3-effb2a89b266",
   "metadata": {},
   "outputs": [],
   "source": []
  },
  {
   "cell_type": "code",
   "execution_count": null,
   "id": "9a6b6db5-5668-48e4-8d0a-e8a0f60411fe",
   "metadata": {},
   "outputs": [],
   "source": []
  },
  {
   "cell_type": "code",
   "execution_count": 117,
   "id": "71a859cb-dd53-4773-9234-524d8adf2f8f",
   "metadata": {},
   "outputs": [
    {
     "data": {
      "image/png": "[encoded data removed]",
      "text/plain": [
       "<Figure size 1000x600 with 1 Axes>"
      ]
     },
     "metadata": {},
     "output_type": "display_data"
    }
   ],
   "source": [
    "# plot training loss curve\n",
    "plt.figure(figsize=(10, 6))\n",
    "plt.plot(list(range(0, len(train_loss_list))), train_loss_list, marker='o', color='b', label='Training Loss')\n",
    "plt.title('Training Loss Curve')\n",
    "plt.xlabel('Steps')\n",
    "plt.ylabel('Loss')\n",
    "plt.legend()\n",
    "plt.savefig(\"loss.png\", dpi=600)\n",
    "plt.show()"
   ]
  },
  {
   "cell_type": "code",
   "execution_count": 151,
   "id": "a9b630e8-84d8-4d6e-8e8e-2b50378ebd1e",
   "metadata": {},
   "outputs": [
    {
     "name": "stderr",
     "output_type": "stream",
     "text": [
      "100%|████████████████████████████████████████████████████████████████████████████| 22101/22101 [35:49<00:00, 10.28it/s]\n"
     ]
    },
    {
     "name": "stdout",
     "output_type": "stream",
     "text": [
      "Epoch 0: Train Loss = 5.0377, Val Loss = 0.7042\n"
     ]
    },
    {
     "name": "stderr",
     "output_type": "stream",
     "text": [
      "100%|████████████████████████████████████████████████████████████████████████████| 22101/22101 [33:42<00:00, 10.93it/s]\n"
     ]
    },
    {
     "name": "stdout",
     "output_type": "stream",
     "text": [
      "Epoch 1: Train Loss = 5.0304, Val Loss = 0.7060\n"
     ]
    },
    {
     "name": "stderr",
     "output_type": "stream",
     "text": [
      "100%|████████████████████████████████████████████████████████████████████████████| 22101/22101 [36:08<00:00, 10.19it/s]\n"
     ]
    },
    {
     "name": "stdout",
     "output_type": "stream",
     "text": [
      "Epoch 2: Train Loss = 5.0294, Val Loss = 0.7054\n",
      "✅ Test Accuracy (Next-Step Prediction): 0.8633\n"
     ]
    }
   ],
   "source": [
    "import torch\n",
    "import torch.nn as nn\n",
    "import torch.optim as optim\n",
    "from torch.utils.data import Dataset, DataLoader\n",
    "from torch.nn.utils.rnn import pack_padded_sequence, pad_packed_sequence\n",
    "from tqdm import tqdm\n",
    "from sklearn.metrics import accuracy_score\n",
    "\n",
    "# ========= Dataset =========\n",
    "PADDING_IDX = 4\n",
    "class UserBehaviorDataset(Dataset):\n",
    "    def __init__(self, dataframe):\n",
    "        self.dataframe = dataframe\n",
    "        self.token_to_idx = {\n",
    "            'PageView': 0, \n",
    "            'AddToCart': 1, \n",
    "            'Buy': 2, \n",
    "            'Favorite': 3,  \n",
    "            'Padding': PADDING_IDX\n",
    "        }\n",
    "    def __len__(self):\n",
    "        return len(self.dataframe)\n",
    "    def __getitem__(self, idx):\n",
    "        sequence = self.dataframe.iloc[idx, 1]\n",
    "        sequence_idx = [self.token_to_idx[action] for action in sequence]\n",
    "\n",
    "        input_seq = sequence_idx[:-1]\n",
    "        target_seq = sequence_idx[1:]\n",
    "\n",
    "        return torch.tensor(input_seq), torch.tensor(target_seq), torch.tensor(len(input_seq))\n",
    "\n",
    "def pad_collate(batch):\n",
    "    (xx, yy, lens) = zip(*batch)\n",
    "    x_lens = torch.tensor(lens)\n",
    "\n",
    "    xx_pad = torch.nn.utils.rnn.pad_sequence(xx, batch_first=True, padding_value=PADDING_IDX)\n",
    "    yy_pad = torch.nn.utils.rnn.pad_sequence(yy, batch_first=True, padding_value=PADDING_IDX)\n",
    "    return xx_pad, yy_pad, x_lens\n",
    "\n",
    "\n",
    "# ========= Model =========\n",
    "class LSTMBehaviorModel(nn.Module):\n",
    "    def __init__(self, num_tokens, hidden_size=128, num_layers=2, dropout=0.2):\n",
    "        super(LSTMBehaviorModel, self).__init__()\n",
    "        self.hidden_size = hidden_size\n",
    "        self.num_layers = num_layers\n",
    "        self.embed = nn.Embedding(num_tokens, hidden_size, padding_idx=PADDING_IDX)\n",
    "        self.lstm = nn.LSTM(hidden_size, hidden_size, num_layers,\n",
    "                            batch_first=True, dropout=dropout)\n",
    "        self.fc = nn.Linear(hidden_size, num_tokens)\n",
    "    def forward(self, x, x_lens):\n",
    "        x = self.embed(x)\n",
    "        packed_x = pack_padded_sequence(x, x_lens.cpu(), batch_first=True, enforce_sorted=False)\n",
    "        h0 = torch.zeros(self.num_layers, x.size(0), self.hidden_size).to(x.device)\n",
    "        c0 = torch.zeros(self.num_layers, x.size(0), self.hidden_size).to(x.device)\n",
    "        packed_out, _ = self.lstm(packed_x, (h0, c0))\n",
    "        out, _ = pad_packed_sequence(packed_out, batch_first=True, padding_value=PADDING_IDX)\n",
    "        out = self.fc(out)\n",
    "        return out\n",
    "\n",
    "\n",
    "# ========= Training Setup =========\n",
    "device = torch.device(\"cuda:0\" if torch.cuda.is_available() else \"cpu\")\n",
    "model = LSTMBehaviorModel(num_tokens=5, hidden_size=256, num_layers=3, dropout=0.3).to(device)\n",
    "\n",
    "class_weights = torch.tensor([1.0, 1.5, 2.0, 1.2, 0.0], dtype=torch.float).to(device)\n",
    "\n",
    "criterion_train = nn.CrossEntropyLoss(\n",
    "    weight=class_weights, ignore_index=PADDING_IDX, reduction='none', label_smoothing=0.05\n",
    ").to(device)\n",
    "\n",
    "criterion_val = nn.CrossEntropyLoss(\n",
    "    weight=class_weights, ignore_index=PADDING_IDX, reduction='mean'\n",
    ").to(device)\n",
    "\n",
    "optimizer = optim.AdamW(model.parameters(), lr=0.002)\n",
    "scheduler = torch.optim.lr_scheduler.StepLR(optimizer, step_size=5, gamma=0.5)\n",
    "\n",
    "train_dataset = UserBehaviorDataset(sequence_train)\n",
    "val_dataset = UserBehaviorDataset(sequence_val)\n",
    "train_loader = DataLoader(train_dataset, batch_size=46, shuffle=True, collate_fn=pad_collate)\n",
    "val_loader = DataLoader(val_dataset, batch_size=46, shuffle=False, collate_fn=pad_collate)\n",
    "\n",
    "best_val_loss = float('inf')\n",
    "patience, patience_counter = 5, 0\n",
    "num_epochs = 3\n",
    "\n",
    "\n",
    "# ========= Training Loop =========\n",
    "for epoch in range(num_epochs):\n",
    "    model.train()\n",
    "    total_train_loss = 0\n",
    "    for x_padded, y_padded, x_lens in tqdm(train_loader):\n",
    "        x_padded, y_padded, x_lens = x_padded.to(device), y_padded.to(device), x_lens.to(device)\n",
    "        optimizer.zero_grad()\n",
    "        output = model(x_padded, x_lens)\n",
    "\n",
    "        loss = criterion_train(output.view(-1, 5), y_padded.view(-1))\n",
    "        loss = loss.view(x_padded.size(0), -1).sum(dim=1).mean()\n",
    "\n",
    "        loss.backward()\n",
    "        torch.nn.utils.clip_grad_norm_(model.parameters(), max_norm=5)\n",
    "        optimizer.step()\n",
    "        total_train_loss += loss.item()\n",
    "\n",
    "    # Validation\n",
    "    model.eval()\n",
    "    total_val_loss = 0\n",
    "    with torch.no_grad():\n",
    "        for x_padded, y_padded, x_lens in val_loader:\n",
    "            x_padded, y_padded, x_lens = x_padded.to(device), y_padded.to(device), x_lens.to(device)\n",
    "            output = model(x_padded, x_lens)\n",
    "            val_loss = criterion_val(output.view(-1, 5), y_padded.view(-1))\n",
    "            total_val_loss += val_loss.item()\n",
    "\n",
    "    avg_train_loss = total_train_loss / len(train_loader)\n",
    "    avg_val_loss = total_val_loss / len(val_loader)\n",
    "    scheduler.step()\n",
    "\n",
    "    print(f\"Epoch {epoch}: Train Loss = {avg_train_loss:.4f}, Val Loss = {avg_val_loss:.4f}\")\n",
    "\n",
    "    if avg_val_loss < best_val_loss:\n",
    "        best_val_loss = avg_val_loss\n",
    "        patience_counter = 0\n",
    "        torch.save(model.state_dict(), 'best_model.pth')\n",
    "    else:\n",
    "        patience_counter += 1\n",
    "        if patience_counter >= patience:\n",
    "            print(\"Early stopping triggered.\")\n",
    "            break\n",
    "\n",
    "\n",
    "# ========= Evaluation =========\n",
    "test_dataset = UserBehaviorDataset(sequence_test)\n",
    "test_loader = DataLoader(test_dataset, batch_size=46, shuffle=False, collate_fn=pad_collate)\n",
    "\n",
    "model.eval()\n",
    "all_predictions, all_labels = [], []\n",
    "with torch.no_grad():\n",
    "    for x_padded, y_padded, x_lens in test_loader:\n",
    "        x_padded, y_padded, x_lens = x_padded.to(device), y_padded.to(device), x_lens.to(device)\n",
    "        output = model(x_padded, x_lens)\n",
    "        preds = output.argmax(dim=-1)\n",
    "        for i, length in enumerate(x_lens):\n",
    "            all_predictions.extend(preds[i, :length].tolist())\n",
    "            all_labels.extend(y_padded[i, :length].tolist())\n",
    "\n",
    "acc = accuracy_score(all_labels, all_predictions)\n",
    "print(f\"✅ Test Accuracy (Next-Step Prediction): {acc:.4f}\")\n"
   ]
  },
  {
   "cell_type": "markdown",
   "id": "b159080e-395a-4236-81e3-61f5fc976c65",
   "metadata": {},
   "source": [
    "## RNN"
   ]
  },
  {
   "cell_type": "code",
   "execution_count": 146,
   "id": "439600ac-a4b7-4c20-b68f-8b8eafef96fc",
   "metadata": {},
   "outputs": [
    {
     "name": "stderr",
     "output_type": "stream",
     "text": [
      "100%|█████████████████████████████████████████████████████████████████████████| 63540/63540 [40:25:27<00:00,  2.29s/it]\n"
     ]
    },
    {
     "name": "stdout",
     "output_type": "stream",
     "text": [
      "Epoch 0: Avg. Validation Loss: 3.1729\n"
     ]
    },
    {
     "name": "stderr",
     "output_type": "stream",
     "text": [
      "100%|████████████████████████████████████████████████████████████████████████████| 63540/63540 [11:56<00:00, 88.63it/s]\n"
     ]
    },
    {
     "name": "stdout",
     "output_type": "stream",
     "text": [
      "Epoch 1: Avg. Validation Loss: 3.2024\n"
     ]
    }
   ],
   "source": [
    " # rnn\n",
    "device = torch.device(\"cuda:6\" if torch.cuda.is_available() else \"cpu\")\n",
    "class RNNBehaviorModel(nn.Module):\n",
    "    def __init__(self, num_tokens, hidden_size=128, num_layers=1):\n",
    "        super(RNNBehaviorModel, self).__init__()\n",
    "        self.hidden_size = hidden_size\n",
    "        self.num_layers = num_layers\n",
    "        self.embed = nn.Embedding(num_tokens, hidden_size)\n",
    "        self.rnn = nn.RNN(hidden_size, hidden_size, num_layers, batch_first=True)\n",
    "        self.fc = nn.Linear(hidden_size, num_tokens)\n",
    "\n",
    "    def forward(self, x, x_lens):\n",
    "        x = self.embed(x)\n",
    "        packed_x = pack_padded_sequence(\n",
    "            x, x_lens.squeeze().cpu(), batch_first=True, enforce_sorted=False\n",
    "        )\n",
    "        h0 = torch.zeros(self.num_layers, x.size(0), self.hidden_size).to(x.device)\n",
    "        packed_out, _ = self.rnn(packed_x, h0)\n",
    "        out, _ = pad_packed_sequence(packed_out, batch_first=True)\n",
    "        out = self.fc(out)\n",
    "        return out\n",
    "\n",
    "# ========= Training Setup =========\n",
    "model = RNNBehaviorModel(num_tokens=5).to(device)\n",
    "criterion = nn.CrossEntropyLoss(ignore_index=PADDING_IDX, reduction=\"none\").to(device)\n",
    "optimizer = optim.Adam(model.parameters(), lr=0.001)\n",
    "\n",
    "best_val_loss = float(\"inf\")\n",
    "num_epochs = 2\n",
    "\n",
    "for epoch in range(num_epochs):\n",
    "    model.train()\n",
    "    for x_padded, y_padded, x_lens in tqdm(train_loader):\n",
    "        x_padded, y_padded, x_lens = (\n",
    "            x_padded.to(device),\n",
    "            y_padded.to(device),\n",
    "            x_lens.to(device),\n",
    "        )\n",
    "\n",
    "        optimizer.zero_grad()\n",
    "        output = model(x_padded, x_lens)\n",
    "\n",
    "        loss = criterion(output.view(-1, 5), y_padded.view(-1))\n",
    "        loss = loss.view(x_padded.size(0), -1).sum(dim=1).mean()\n",
    "\n",
    "        loss.backward()\n",
    "        optimizer.step()\n",
    "\n",
    "    # Validation\n",
    "    model.eval()\n",
    "    total_val_loss = 0\n",
    "    with torch.no_grad():\n",
    "        for x_padded, y_padded, x_lens in val_loader:\n",
    "            x_padded, y_padded, x_lens = (\n",
    "                x_padded.to(device),\n",
    "                y_padded.to(device),\n",
    "                x_lens.to(device),\n",
    "            )\n",
    "            output = model(x_padded, x_lens)\n",
    "            val_loss = criterion(output.view(-1, 5), y_padded.view(-1))\n",
    "            val_loss = val_loss.view(x_padded.size(0), -1).sum(dim=1).mean()\n",
    "            total_val_loss += val_loss.item()\n",
    "\n",
    "    avg_val_loss = total_val_loss / len(val_loader)\n",
    "    print(f\"Epoch {epoch}: Avg. Validation Loss: {avg_val_loss:.4f}\")\n",
    "\n",
    "    if avg_val_loss < best_val_loss:\n",
    "        best_val_loss = avg_val_loss\n",
    "        torch.save(model.state_dict(), \"best_model.pth\")\n"
   ]
  },
  {
   "cell_type": "code",
   "execution_count": null,
   "id": "b3e0f189-f1e9-4739-b621-78a4cdad1764",
   "metadata": {},
   "outputs": [],
   "source": []
  },
  {
   "cell_type": "code",
   "execution_count": 147,
   "id": "70110384-8e15-4e6b-90ce-d19181007e3d",
   "metadata": {},
   "outputs": [
    {
     "name": "stdout",
     "output_type": "stream",
     "text": [
      "✅ Test Accuracy: 0.8520\n"
     ]
    }
   ],
   "source": [
    "model = RNNBehaviorModel(num_tokens=5).to(device)\n",
    "model.load_state_dict(torch.load(\"best_model.pth\"))\n",
    "model.eval()\n",
    "\n",
    "all_predictions = []\n",
    "all_labels = []\n",
    "\n",
    "with torch.no_grad():\n",
    "    for x_padded, y_padded, x_lens in test_loader:\n",
    "        x_padded, y_padded, x_lens = (\n",
    "            x_padded.to(device),\n",
    "            y_padded.to(device),\n",
    "            x_lens.to(device),\n",
    "        )\n",
    "        output = model(x_padded, x_lens)\n",
    "        preds = output.argmax(dim=-1)\n",
    "\n",
    "        for i, length in enumerate(x_lens.squeeze()):\n",
    "            all_predictions.append(preds[i, length - 1].item())   # Prediction at the last step\n",
    "            all_labels.append(y_padded[i, length - 1].item())     # The correct label at the last step.\n",
    "\n",
    "accuracy = accuracy_score(all_labels, all_predictions)\n",
    "print(f\"✅ Test Accuracy: {accuracy:.4f}\")"
   ]
  },
  {
   "cell_type": "code",
   "execution_count": 152,
   "id": "0a1afc04-afd3-4b27-aa5c-59902bed8142",
   "metadata": {},
   "outputs": [
    {
     "data": {
      "image/png": "[encoded data removed]",
      "text/plain": [
       "<Figure size 600x400 with 1 Axes>"
      ]
     },
     "metadata": {},
     "output_type": "display_data"
    }
   ],
   "source": [
    "import matplotlib.pyplot as plt\n",
    "\n",
    "# Test results\n",
    "models = [\"RNN\", \"LSTM\"]\n",
    "accuracies = [0.8520, 0.8634]\n",
    "\n",
    "plt.figure(figsize=(6, 4))\n",
    "bars = plt.bar(models, accuracies, color=[\"skyblue\", \"orange\"], width=0.5)\n",
    "\n",
    "# Add values above the columns\n",
    "for bar, acc in zip(bars, accuracies):\n",
    "    plt.text(bar.get_x() + bar.get_width()/2, bar.get_height() + 0.001,\n",
    "             f\"{acc:.4f}\", ha='center', va='bottom', fontsize=10, fontweight='bold')\n",
    "\n",
    "plt.ylim(0.84, 0.87)\n",
    "plt.ylabel(\"Test Accuracy\")\n",
    "plt.title(\"Comparison of RNN and LSTM Models\")\n",
    "plt.grid(axis=\"y\", linestyle=\"--\", alpha=0.7)\n",
    "plt.show()\n"
   ]
  },
  {
   "cell_type": "code",
   "execution_count": null,
   "id": "40246548-9376-49cc-b11a-604bf3906ae4",
   "metadata": {},
   "outputs": [],
   "source": []
  }
 ],
 "metadata": {
  "kernelspec": {
   "display_name": "Python 3 (ipykernel)",
   "language": "python",
   "name": "python3"
  },
  "language_info": {
   "codemirror_mode": {
    "name": "ipython",
    "version": 3
   },
   "file_extension": ".py",
   "mimetype": "text/x-python",
   "name": "python",
   "nbconvert_exporter": "python",
   "pygments_lexer": "ipython3",
   "version": "3.12.7"
  },
  "panel-cell-order": [
   "ecad0d60-a640-492e-bc34-725975e607ec"
  ]
 },
 "nbformat": 4,
 "nbformat_minor": 5
}
